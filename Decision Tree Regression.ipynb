{
  "nbformat": 4,
  "nbformat_minor": 0,
  "metadata": {
    "colab": {
      "name": "Untitled24.ipynb",
      "provenance": [],
      "collapsed_sections": []
    },
    "kernelspec": {
      "name": "python3",
      "display_name": "Python 3"
    },
    "language_info": {
      "name": "python"
    }
  },
  "cells": [
    {
      "cell_type": "code",
      "execution_count": 243,
      "metadata": {
        "id": "jTgLTxkV8Jwh"
      },
      "outputs": [],
      "source": [
        "import numpy as np\n",
        "import pandas as pd\n",
        "import matplotlib.pyplot as plt"
      ]
    },
    {
      "cell_type": "code",
      "source": [
        "def showData(X_1, Y_1, X_2, Y_2):\n",
        "    plt.scatter(X_1, Y_1, color = 'r');\n",
        "    plt.scatter(X_2, Y_2, color = 'g');\n",
        "    plt.title('Data');\n",
        "    plt.show()"
      ],
      "metadata": {
        "id": "0mP-mB0-Tglh"
      },
      "execution_count": 244,
      "outputs": []
    },
    {
      "cell_type": "code",
      "source": [
        "X = []\n",
        "y = []\n",
        "\n",
        "X.append(5)\n",
        "X.append(10)\n",
        "X.append(10)\n",
        "X.append(9)\n",
        "X.append(8)\n",
        "X.append(8)\n",
        "X.append(6)\n",
        "X.append(7)\n",
        "\n",
        "y.append(25)\n",
        "y.append(100)\n",
        "y.append(100)\n",
        "y.append(122)\n",
        "y.append(64)\n",
        "y.append(64)\n",
        "y.append(36)\n",
        "y.append(49)\n",
        "\n",
        "\n",
        "showData(X, y, None, None)"
      ],
      "metadata": {
        "id": "K_pF0Uvk8M7o",
        "colab": {
          "base_uri": "https://localhost:8080/",
          "height": 281
        },
        "outputId": "bd700d41-ae4c-41c7-d760-295d45baad30"
      },
      "execution_count": 245,
      "outputs": [
        {
          "output_type": "display_data",
          "data": {
            "text/plain": [
              "<Figure size 432x288 with 1 Axes>"
            ],
            "image/png": "[encoded data removed]"
          },
          "metadata": {
            "needs_background": "light"
          }
        }
      ]
    },
    {
      "cell_type": "code",
      "source": [
        "class Node():\n",
        "    def __init__(self, feature_index=None, threshold=None, left=None, right=None, information_gain=None, value=None):\n",
        "        \n",
        "        self.feature_index = feature_index\n",
        "        self.threshold = threshold\n",
        "        self.left = left\n",
        "        self.right = right\n",
        "        self.information_gain = information_gain\n",
        "        \n",
        "        self.value = value"
      ],
      "metadata": {
        "id": "Qf1IQ8jw8NHM"
      },
      "execution_count": 246,
      "outputs": []
    },
    {
      "cell_type": "code",
      "source": [
        "from numpy.core.multiarray import concatenate\n",
        "class DecisionTreeRegressor():\n",
        "    def __init__(self, min_samples_split, max_depth):\n",
        "        self.root = None\n",
        "\n",
        "        self.min_samples_split = min_samples_split\n",
        "        self.max_depth = max_depth\n",
        "\n",
        "    \n",
        "    def build_tree(self, data, current_depth=0):\n",
        "        X, y = data[:, :-1], data[:, -1]\n",
        "\n",
        "        num_samples, num_features = X.shape\n",
        "        # 6 and 1\n",
        "        best_split = {}\n",
        "        if num_samples >= self.min_samples_split and current_depth <= self.max_depth:\n",
        "            best_split = self.get_best_split(data, num_samples, num_features)\n",
        "            if best_split['information_gain'] > 0:\n",
        "\n",
        "                # threshold_data.append(best_split['threshold'])\n",
        "                print('current_feature - ',best_split['current_feature'])\n",
        "                print('threshold - ', best_split['threshold'])\n",
        "                print('data_left - ', best_split['data_left'])\n",
        "                print('data_right - ', best_split['data_right']) \n",
        "                print('information_gain - ', best_split['information_gain'])\n",
        "                print('current_depth - ', current_depth)\n",
        "                print('--------')\n",
        "                print()\n",
        "\n",
        "                left_subtree = self.build_tree(best_split['data_left'], current_depth + 1)\n",
        "                right_subtree = self.build_tree(best_split['data_right'], current_depth + 1)\n",
        "\n",
        "                # return Node(best_split[\"current_feature\"], best_split[\"threshold\"], \n",
        "                #             left_subtree, right_subtree, best_split[\"var_red\"]), threshold_data\n",
        "                \n",
        "        leaf_value =  np.mean(y)\n",
        "        \n",
        "        return Node(leaf_value)\n",
        "\n",
        "    def get_best_split(self, data, num_samples, num_features):\n",
        "\n",
        "        best_split = {}\n",
        "        max_gain = -float(\"inf\")\n",
        "\n",
        "        for current_feature in range(0, num_features):\n",
        "            feature_values = data[:, current_feature]\n",
        "            possible_thresholds = np.unique(feature_values)\n",
        "            \n",
        "            for threshold in possible_thresholds:\n",
        "                data_left, data_right = self.split(data, current_feature, threshold)\n",
        "                if len(data_left) > 0 and len(data_right) > 0:\n",
        "                    y, y_left, y_right = data[:, -1], data_left[:, -1], data_right[:, -1]\n",
        "                    current_gain = self.compute_information_gain(y, y_left, y_right)\n",
        "                    if current_gain > max_gain:\n",
        "                        best_split['current_feature'] = current_feature\n",
        "                        best_split['threshold'] = threshold\n",
        "                        best_split['data_left'] = data_left\n",
        "                        best_split['data_right'] = data_right\n",
        "                        best_split['information_gain'] = current_gain\n",
        "                        max_var_red = current_gain\n",
        "\n",
        "        return best_split    \n",
        "\n",
        "\n",
        "    def split(self, data, current_feature, threshold):\n",
        "        data_left = np.array([row for row in data if row[current_feature] <= threshold])\n",
        "        data_right = np.array([row for row in data if row[current_feature] > threshold])\n",
        "        return data_left, data_right\n",
        "\n",
        "    def compute_information_gain(self, parent, left_child, right_child):\n",
        "        weight_left = len(left_child) / len(parent)\n",
        "        weight_right = len(right_child) / len(parent)\n",
        "\n",
        "        parent = self.MSE(parent)\n",
        "        left_child = self.MSE(left_child)\n",
        "        right_child = self.MSE(right_child)\n",
        "        var_red = parent - weight_left * left_child - weight_right * right_child\n",
        "\n",
        "        return var_red\n",
        "        \n",
        "    def MSE(self, y):\n",
        "        average_y = y.mean()\n",
        "        sum = 0\n",
        "        for i in range(len(y)):\n",
        "            sum += (y[i] - average_y) ** 2 / len(y)\n",
        "        return sum\n",
        "\n",
        "\n",
        "    def fit(self, X, y):\n",
        "        data = pd.DataFrame({'features': X, 'targets': y})\n",
        "        data = np.array(data)\n",
        "        self.root = self.build_tree(data)\n",
        "        # threshold_data = np.unique(np.sort(threshold_data))\n",
        "        # return threshold_data\n",
        "    "
      ],
      "metadata": {
        "id": "RMOcbbGq8NZL"
      },
      "execution_count": 247,
      "outputs": []
    },
    {
      "cell_type": "code",
      "source": [
        "X = pd.Series(X)\n",
        "y = pd.Series(y)"
      ],
      "metadata": {
        "id": "rKRrKWLNiHcv"
      },
      "execution_count": 248,
      "outputs": []
    },
    {
      "cell_type": "code",
      "source": [
        "Tree = DecisionTreeRegressor(min_samples_split = 3, max_depth = 6)\n",
        "Tree.fit(X, y)"
      ],
      "metadata": {
        "colab": {
          "base_uri": "https://localhost:8080/"
        },
        "id": "Bp9ruqyvUdzX",
        "outputId": "88f0a3a7-f165-4369-f2e5-b2f9e5ace8ed"
      },
      "execution_count": 249,
      "outputs": [
        {
          "output_type": "stream",
          "name": "stdout",
          "text": [
            "current_feature -  0\n",
            "threshold -  9\n",
            "data_left -  [[  5  25]\n",
            " [  9 122]\n",
            " [  8  64]\n",
            " [  8  64]\n",
            " [  6  36]\n",
            " [  7  49]]\n",
            "data_right -  [[ 10 100]\n",
            " [ 10 100]]\n",
            "information_gain -  300.0000000000001\n",
            "current_depth -  0\n",
            "--------\n",
            "\n",
            "current_feature -  0\n",
            "threshold -  8\n",
            "data_left -  [[ 5 25]\n",
            " [ 8 64]\n",
            " [ 8 64]\n",
            " [ 6 36]\n",
            " [ 7 49]]\n",
            "data_right -  [[  9 122]]\n",
            "information_gain -  768.7999999999997\n",
            "current_depth -  1\n",
            "--------\n",
            "\n",
            "current_feature -  0\n",
            "threshold -  7\n",
            "data_left -  [[ 5 25]\n",
            " [ 6 36]\n",
            " [ 7 49]]\n",
            "data_right -  [[ 8 64]\n",
            " [ 8 64]]\n",
            "information_gain -  179.30666666666667\n",
            "current_depth -  2\n",
            "--------\n",
            "\n",
            "current_feature -  0\n",
            "threshold -  6\n",
            "data_left -  [[ 5 25]\n",
            " [ 6 36]]\n",
            "data_right -  [[ 7 49]]\n",
            "information_gain -  76.05555555555557\n",
            "current_depth -  3\n",
            "--------\n",
            "\n"
          ]
        }
      ]
    }
  ]
}