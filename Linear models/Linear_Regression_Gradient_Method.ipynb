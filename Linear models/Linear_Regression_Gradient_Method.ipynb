{
  "nbformat": 4,
  "nbformat_minor": 0,
  "metadata": {
    "colab": {
      "name": "Lin grad.ipynb",
      "provenance": []
    },
    "kernelspec": {
      "name": "python3",
      "display_name": "Python 3"
    },
    "language_info": {
      "name": "python"
    }
  },
  "cells": [
    {
      "cell_type": "code",
      "execution_count": 452,
      "metadata": {
        "id": "ivP4I5sIdqFX"
      },
      "outputs": [],
      "source": [
        "import math\n",
        "import numpy as np\n",
        "import pandas as pd\n",
        "import sklearn\n",
        "import seaborn as sns\n",
        "import matplotlib.pyplot as plt"
      ]
    },
    {
      "cell_type": "markdown",
      "source": [
        "## **Искомая зависимость y = 2 * x + 5**"
      ],
      "metadata": {
        "id": "-5Eil62QISfA"
      }
    },
    {
      "cell_type": "code",
      "source": [
        "def point ():\n",
        "    x = np.random.uniform(-2.5, 2)\n",
        "    y = 2 * x + 5\n",
        "    return x, y"
      ],
      "metadata": {
        "id": "rsjqdMiLme0j"
      },
      "execution_count": 453,
      "outputs": []
    },
    {
      "cell_type": "code",
      "source": [
        "def sizes ():\n",
        "    n = 50\n",
        "    m = 2\n",
        "    return n, m"
      ],
      "metadata": {
        "id": "bzK_rZqCmIxo"
      },
      "execution_count": 454,
      "outputs": []
    },
    {
      "cell_type": "code",
      "source": [
        "n, m = sizes()"
      ],
      "metadata": {
        "id": "_SUvlGQzJvT3"
      },
      "execution_count": 455,
      "outputs": []
    },
    {
      "cell_type": "code",
      "source": [
        "def computeGradient (X, y, alpha, w):\n",
        "    grad = alpha * 2 * np.dot(X.transpose(), (np.dot(X, w) - y)) / n\n",
        "    return grad\n",
        "\n",
        "def computeRegularization (beta, w):\n",
        "    return 2 * beta * w / n\n",
        "\n",
        "def setWeights (w, grad, reg):\n",
        "    return w - grad - reg\n",
        "\n",
        "def refillData (n, m, a, b):\n",
        "    alpha = a\n",
        "    beta = b\n",
        "    w = []\n",
        "    for i in range(m):\n",
        "      w.append([0])\n",
        "\n",
        "    feature = []\n",
        "    target = []\n",
        "    for i in range(n):\n",
        "      x, y = point()\n",
        "      feature.append([1, x])\n",
        "      target.append([y + np.random.uniform(-0.5, 0.5)])\n",
        "    X = np.array(feature)\n",
        "    y = np.array(target)\n",
        "    w = np.array(w)\n",
        "    return X, y, w, alpha, beta\n",
        "\n",
        "def showGraph (graphDataX, graphDataY, name):\n",
        "  sns.set_style(\"ticks\")\n",
        "  sns.scatterplot(x = graphDataX, y = graphDataY, color = 'blue')\n",
        "  plt.xlabel(\"x\")\n",
        "  plt.ylabel(\"y\")\n",
        "  plt.title(name)\n",
        "  plt.show(sns)"
      ],
      "metadata": {
        "id": "DKqPPN9Kdvgz"
      },
      "execution_count": 456,
      "outputs": []
    },
    {
      "cell_type": "markdown",
      "source": [
        "# **Gradient Descent with Regularization**"
      ],
      "metadata": {
        "id": "pQ1Cx8XcxWLn"
      }
    },
    {
      "cell_type": "code",
      "source": [
        "X, y, w, alpha, beta = refillData(50, 2, 0.1, 0.00001)\n",
        "graphDataX = []\n",
        "graphDataY = []\n",
        "\n",
        "for i in range (50):\n",
        "    grad = computeGradient(X, y, alpha, w)\n",
        "    reg = computeRegularization(beta, w)\n",
        "    w = setWeights(w, grad, reg)\n",
        "    graphDataX.append(w[0][0])\n",
        "    graphDataY.append(w[1][0])\n",
        "w"
      ],
      "metadata": {
        "id": "TYedPeETd8aH",
        "colab": {
          "base_uri": "https://localhost:8080/"
        },
        "outputId": "5a769c05-b89d-4bfe-f6f8-f404930f7782"
      },
      "execution_count": 457,
      "outputs": [
        {
          "output_type": "execute_result",
          "data": {
            "text/plain": [
              "array([[4.89825557],\n",
              "       [2.0281672 ]])"
            ]
          },
          "metadata": {},
          "execution_count": 457
        }
      ]
    },
    {
      "cell_type": "code",
      "source": [
        "showGraph(graphDataX, graphDataY, name = 'Gradient Descent')"
      ],
      "metadata": {
        "colab": {
          "base_uri": "https://localhost:8080/",
          "height": 295
        },
        "id": "_IFNUuRJ_Vv0",
        "outputId": "3da09fc2-429a-4407-f7d5-925dae1b6361"
      },
      "execution_count": 458,
      "outputs": [
        {
          "output_type": "display_data",
          "data": {
            "text/plain": [
              "<Figure size 432x288 with 1 Axes>"
            ],
            "image/png": "[encoded data removed]"
          },
          "metadata": {}
        }
      ]
    },
    {
      "cell_type": "markdown",
      "source": [
        "# **Stochastic Gradient Descent with Regularization**"
      ],
      "metadata": {
        "id": "ZyYiyCGAxPJb"
      }
    },
    {
      "cell_type": "code",
      "source": [
        "X, y, w, alpha, beta = refillData(1500, 2, 0.1, 0.0001)\n",
        "graphDataX = []\n",
        "graphDataY = []\n",
        "\n",
        "for i in range (0, 1500, 5):\n",
        "    X_mbatch = X[i: i + 5]\n",
        "    y_mbatch = y[i: i + 5]\n",
        "    grad = computeGradient(X_mbatch, y_mbatch, alpha, w)\n",
        "    reg = computeRegularization(beta, w)\n",
        "    w = setWeights(w, grad, reg)\n",
        "\n",
        "    graphDataX.append(w[0][0])\n",
        "    graphDataY.append(w[1][0])\n",
        "w"
      ],
      "metadata": {
        "colab": {
          "base_uri": "https://localhost:8080/"
        },
        "id": "LNvDiygXd-fH",
        "outputId": "dbeffbdc-ad6c-4aed-9b86-6fa4f6f6f73f"
      },
      "execution_count": 459,
      "outputs": [
        {
          "output_type": "execute_result",
          "data": {
            "text/plain": [
              "array([[4.99601142],\n",
              "       [1.98438283]])"
            ]
          },
          "metadata": {},
          "execution_count": 459
        }
      ]
    },
    {
      "cell_type": "code",
      "source": [
        "showGraph(graphDataX, graphDataY, name = 'Stochastic Gradient Descent')"
      ],
      "metadata": {
        "colab": {
          "base_uri": "https://localhost:8080/",
          "height": 295
        },
        "id": "2RfLrhMqxud8",
        "outputId": "fb014257-bdcf-4b3e-8ca4-5b40010db7cd"
      },
      "execution_count": 460,
      "outputs": [
        {
          "output_type": "display_data",
          "data": {
            "text/plain": [
              "<Figure size 432x288 with 1 Axes>"
            ],
            "image/png": "[encoded data removed]"
          },
          "metadata": {}
        }
      ]
    }
  ]
}