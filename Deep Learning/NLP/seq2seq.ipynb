{
  "metadata": {
    "colab": {
      "provenance": []
    },
    "kernelspec": {
      "name": "python3",
      "display_name": "Python 3",
      "language": "python"
    },
    "language_info": {
      "name": "python",
      "version": "3.7.12",
      "mimetype": "text/x-python",
      "codemirror_mode": {
        "name": "ipython",
        "version": 3
      },
      "pygments_lexer": "ipython3",
      "nbconvert_exporter": "python",
      "file_extension": ".py"
    },
    "gpuClass": "standard",
    "accelerator": "GPU"
  },
  "nbformat_minor": 0,
  "nbformat": 4,
  "cells": [
    {
      "cell_type": "code",
      "source": [
        "import torch\n",
        "import torch.nn as nn\n",
        "import torch.optim as optim\n",
        "\n",
        "import re\n",
        "\n",
        "import random\n",
        "\n",
        "from math import inf\n",
        "\n",
        "import tqdm\n",
        "from tqdm import tqdm\n",
        "\n",
        "import matplotlib.pyplot as plt\n",
        "import seaborn as sns\n",
        "\n",
        "import warnings\n",
        "warnings.filterwarnings('ignore')"
      ],
      "metadata": {
        "id": "EIlaym0ENxMH",
        "execution": {
          "iopub.status.busy": "2023-02-01T21:12:48.598508Z",
          "iopub.execute_input": "2023-02-01T21:12:48.598933Z",
          "iopub.status.idle": "2023-02-01T21:12:50.373789Z",
          "shell.execute_reply.started": "2023-02-01T21:12:48.598847Z",
          "shell.execute_reply": "2023-02-01T21:12:50.372791Z"
        },
        "trusted": true
      },
      "execution_count": 306,
      "outputs": []
    },
    {
      "cell_type": "code",
      "source": [
        "plt.style.use('default')\n",
        "sns.set(rc={'figure.figsize':(8, 6)})\n",
        "sns.set_style('white')\n",
        "sns.despine()\n",
        "plt.figure(figsize=(14, 14))"
      ],
      "metadata": {
        "colab": {
          "base_uri": "https://localhost:8080/",
          "height": 69
        },
        "id": "ibI0dUeqTi35",
        "outputId": "ad90f009-6597-4ee4-d84e-2635fe8a5c22"
      },
      "execution_count": 307,
      "outputs": [
        {
          "output_type": "execute_result",
          "data": {
            "text/plain": [
              "<Figure size 1400x1400 with 0 Axes>"
            ]
          },
          "metadata": {},
          "execution_count": 307
        },
        {
          "output_type": "display_data",
          "data": {
            "text/plain": [
              "<Figure size 800x600 with 0 Axes>"
            ]
          },
          "metadata": {}
        },
        {
          "output_type": "display_data",
          "data": {
            "text/plain": [
              "<Figure size 1400x1400 with 0 Axes>"
            ]
          },
          "metadata": {}
        }
      ]
    },
    {
      "cell_type": "code",
      "source": [
        "device = torch.device('cuda' if torch.cuda.is_available() else 'cpu')"
      ],
      "metadata": {
        "id": "P5Pi0MmEMwe4"
      },
      "execution_count": 308,
      "outputs": []
    },
    {
      "cell_type": "code",
      "source": [
        "class Dictionary():\n",
        "    def __init__(self, name):\n",
        "        self.name = name\n",
        "        self.word2idx = {'<sos>': 0, '<eos>': 1, '<unk>': 2}\n",
        "        self.word2count = {'<sos>': 1, '<eos>': 1, '<unk>': 1}\n",
        "        self.idx2word = {0: '<sos>', 1: '<eos>', 2: '<unk>'}\n",
        "        self.num_words = 3\n",
        "        \n",
        "    def addSentence(self, sentence):\n",
        "        for word in sentence.split():\n",
        "            self.addWord(word)\n",
        "        \n",
        "    def addWord(self, word):\n",
        "        if not word in self.word2idx:\n",
        "            self.word2idx[word] = self.num_words\n",
        "            self.word2count[word] = 1\n",
        "            self.idx2word[self.num_words] = word\n",
        "            self.num_words += 1\n",
        "        else:\n",
        "            self.word2count[word] += 1\n",
        "\n",
        "    def __len__(self):\n",
        "        return self.num_words"
      ],
      "metadata": {
        "id": "PJGj0gMKY8nz",
        "execution": {
          "iopub.status.busy": "2023-02-01T21:12:50.420017Z",
          "iopub.execute_input": "2023-02-01T21:12:50.421290Z",
          "iopub.status.idle": "2023-02-01T21:12:50.430519Z",
          "shell.execute_reply.started": "2023-02-01T21:12:50.421253Z",
          "shell.execute_reply": "2023-02-01T21:12:50.429140Z"
        },
        "trusted": true
      },
      "execution_count": 309,
      "outputs": []
    },
    {
      "cell_type": "code",
      "source": [
        "class Corpus():\n",
        "    def __init__(self, source_name, target_name):\n",
        "        self.source_lang = Dictionary(source_name)\n",
        "        self.target_lang = Dictionary(target_name)\n",
        "    \n",
        "    def get_data(self, path, MAX_LENGTH=10):\n",
        "        pairs = []\n",
        "\n",
        "        with open(path, 'r') as lines:\n",
        "            for line in lines:\n",
        "                pair = line.replace('\\n', '').split(',')\n",
        "                if (len(pair[0].split()) <= MAX_LENGTH and \n",
        "                        len(pair[1].split()) <= MAX_LENGTH and \n",
        "                            len(pair[0].split()) > 2 and len(pair[1].split()) > 2):\n",
        "                    pairs.append(pair)\n",
        "                    self.source_lang.addSentence(pair[0])\n",
        "                    self.target_lang.addSentence(pair[1])\n",
        "\n",
        "        return pairs, self.source_lang, self.target_lang\n",
        "    \n",
        "corpus = Corpus('en', 'de')\n",
        "pairs, source_lang, target_lang = corpus.get_data('en-de_corpus.txt',\n",
        "                                                  MAX_LENGTH=10)\n",
        "random.choice(pairs)"
      ],
      "metadata": {
        "colab": {
          "base_uri": "https://localhost:8080/"
        },
        "id": "9Xzi3lRPYxU3",
        "outputId": "98291d45-ef5e-4c14-8dd8-feec9f1db6cb",
        "execution": {
          "iopub.status.busy": "2023-02-01T21:12:50.432345Z",
          "iopub.execute_input": "2023-02-01T21:12:50.433112Z",
          "iopub.status.idle": "2023-02-01T21:12:50.585421Z",
          "shell.execute_reply.started": "2023-02-01T21:12:50.433031Z",
          "shell.execute_reply": "2023-02-01T21:12:50.584520Z"
        },
        "trusted": true
      },
      "execution_count": 310,
      "outputs": [
        {
          "output_type": "execute_result",
          "data": {
            "text/plain": [
              "['<sos> a nurse is taking care of a patient <eos>',\n",
              " '<sos> eine krankenschwester kummert sich um einen patienten <eos>']"
            ]
          },
          "metadata": {},
          "execution_count": 310
        }
      ]
    },
    {
      "cell_type": "code",
      "source": [
        "LEN_SOURCE_VOCAB = source_lang.num_words\n",
        "LEN_TARGET_VOCAB = target_lang.num_words\n",
        "LEN_SOURCE_VOCAB, LEN_TARGET_VOCAB"
      ],
      "metadata": {
        "colab": {
          "base_uri": "https://localhost:8080/"
        },
        "id": "2rBQkUDFM7Qh",
        "outputId": "1356f0be-52ca-45d2-f278-a21a0fbb9c3e"
      },
      "execution_count": 311,
      "outputs": [
        {
          "output_type": "execute_result",
          "data": {
            "text/plain": [
              "(3045, 3931)"
            ]
          },
          "metadata": {},
          "execution_count": 311
        }
      ]
    },
    {
      "cell_type": "code",
      "source": [
        "print(f\"Unique tokens in source (en) vocabulary: {LEN_SOURCE_VOCAB}\")\n",
        "print(f\"Unique tokens in target (de) vocabulary: {LEN_TARGET_VOCAB}\")"
      ],
      "metadata": {
        "colab": {
          "base_uri": "https://localhost:8080/"
        },
        "id": "qJG2EWVrOtbo",
        "outputId": "fb15ed46-cce5-49f8-c31a-4fb66fc7cdbd"
      },
      "execution_count": 312,
      "outputs": [
        {
          "output_type": "stream",
          "name": "stdout",
          "text": [
            "Unique tokens in source (en) vocabulary: 3045\n",
            "Unique tokens in target (de) vocabulary: 3931\n"
          ]
        }
      ]
    },
    {
      "cell_type": "code",
      "source": [
        "EMBEDDING_SIZE = 300\n",
        "HIDDEN_SIZE = 512\n",
        "N_LAYERS = 1\n",
        "DROPOUT = 0.5"
      ],
      "metadata": {
        "id": "WzKv98VQNFuR"
      },
      "execution_count": 313,
      "outputs": []
    },
    {
      "cell_type": "markdown",
      "source": [
        "![image.png](data:image/png;base64,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)"
      ],
      "metadata": {
        "id": "CUjxQCMXOMhG"
      }
    },
    {
      "cell_type": "code",
      "source": [
        "class Encoder(nn.Module):\n",
        "    def __init__(self, input_size, embedding_size, hidden_size, n_layers, dropout):\n",
        "        super().__init__()\n",
        "\n",
        "        self.input_size = input_size\n",
        "        self.hidden_size = hidden_size\n",
        "        self.n_layers = n_layers\n",
        "\n",
        "        self.embedding = nn.Embedding(input_size,\n",
        "                                      embedding_size)\n",
        "        \n",
        "        self.rnn = nn.GRU(embedding_size,\n",
        "                           hidden_size,\n",
        "                           n_layers,\n",
        "                           dropout=dropout)\n",
        "        \n",
        "        self.dropout = nn.Dropout(dropout)\n",
        "\n",
        "    def forward(self, source, hidden):\n",
        "        embed = self.dropout(self.embedding(source))\n",
        "        \n",
        "        output, hidden = self.rnn(embed, hidden)\n",
        "\n",
        "        return hidden\n",
        "\n",
        "encoder = Encoder(LEN_SOURCE_VOCAB,\n",
        "                  EMBEDDING_SIZE,\n",
        "                  HIDDEN_SIZE,\n",
        "                  N_LAYERS,\n",
        "                  DROPOUT)"
      ],
      "metadata": {
        "id": "sDNWqrmGfYMy",
        "execution": {
          "iopub.status.busy": "2023-02-01T21:12:50.619341Z",
          "iopub.execute_input": "2023-02-01T21:12:50.619831Z",
          "iopub.status.idle": "2023-02-01T21:12:50.645066Z",
          "shell.execute_reply.started": "2023-02-01T21:12:50.619794Z",
          "shell.execute_reply": "2023-02-01T21:12:50.644117Z"
        },
        "trusted": true
      },
      "execution_count": 314,
      "outputs": []
    },
    {
      "cell_type": "code",
      "source": [
        "class Decoder(nn.Module):\n",
        "    def __init__(self, output_size, embedding_size, hidden_size, n_layers, dropout):\n",
        "        super().__init__()\n",
        "\n",
        "        self.output_size = output_size\n",
        "        self.embedding_size = embedding_size\n",
        "        self.n_layers = n_layers\n",
        "\n",
        "        self.embedding = nn.Embedding(output_size,\n",
        "                                      embedding_size)\n",
        "        \n",
        "        self.rnn = nn.GRU(embedding_size,\n",
        "                           hidden_size,\n",
        "                           n_layers,\n",
        "                           dropout=dropout)\n",
        "        \n",
        "        self.fc1 = nn.Linear(hidden_size,\n",
        "                             output_size)\n",
        "        \n",
        "        self.dropout = nn.Dropout(dropout)\n",
        "        \n",
        "    def forward(self, input, hidden):\n",
        "    \n",
        "        embed = self.dropout(self.embedding(input))\n",
        "        \n",
        "        output, hidden = self.rnn(embed, hidden)\n",
        "\n",
        "        prediction = self.fc1(output)\n",
        "\n",
        "        return prediction, hidden\n",
        "\n",
        "decoder = Decoder(LEN_TARGET_VOCAB,\n",
        "                  EMBEDDING_SIZE,\n",
        "                  HIDDEN_SIZE,\n",
        "                  N_LAYERS,\n",
        "                  DROPOUT)"
      ],
      "metadata": {
        "id": "fkbPMZJvpTd-",
        "execution": {
          "iopub.status.busy": "2023-02-01T21:12:50.734639Z",
          "iopub.execute_input": "2023-02-01T21:12:50.735601Z",
          "iopub.status.idle": "2023-02-01T21:12:50.768256Z",
          "shell.execute_reply.started": "2023-02-01T21:12:50.735565Z",
          "shell.execute_reply": "2023-02-01T21:12:50.767376Z"
        },
        "trusted": true
      },
      "execution_count": 315,
      "outputs": []
    },
    {
      "cell_type": "code",
      "source": [
        "class Seq2seq(nn.Module):\n",
        "    def __init__(self, encoder, decoder):\n",
        "        super().__init__()\n",
        "\n",
        "        self.encoder = encoder.to(device)\n",
        "        self.decoder = decoder.to(device)\n",
        "\n",
        "    def forward(self, source, target, teacher_forcing_ratio=0.5):\n",
        "        encoder_hidden = torch.zeros((self.encoder.n_layers, 1, self.encoder.hidden_size)).to(device)\n",
        "  \n",
        "        for ei in range(len(source)):\n",
        "            encoder_hidden = self.encoder(source[ei].unsqueeze(1), \n",
        "                                          encoder_hidden)\n",
        "\n",
        "        target_word = target[0].unsqueeze(1)\n",
        "\n",
        "        outputs = torch.zeros(len(target) - 1, self.decoder.output_size).to(device)\n",
        "\n",
        "        decoder_hidden = encoder_hidden\n",
        "        \n",
        "        for di in range(0, len(target) - 1):\n",
        "            decoder_output, decoder_hidden = self.decoder.forward(target_word, decoder_hidden)\n",
        "\n",
        "            outputs[di] = decoder_output\n",
        "\n",
        "            teacher_force = random.random() < teacher_forcing_ratio\n",
        "\n",
        "            prediction = torch.tensor([decoder_output.argmax()]).to(device)\n",
        "\n",
        "            target_word = target[di + 1].unsqueeze(1) if teacher_forcing_ratio else prediction.unsqueeze(1)\n",
        "\n",
        "        return outputs\n",
        "\n",
        "seq2seq = Seq2seq(encoder, decoder).to(device)"
      ],
      "metadata": {
        "id": "CvFsD2QfxJEf",
        "execution": {
          "iopub.status.busy": "2023-02-01T21:12:51.254795Z",
          "iopub.execute_input": "2023-02-01T21:12:51.255452Z",
          "iopub.status.idle": "2023-02-01T21:12:55.111474Z",
          "shell.execute_reply.started": "2023-02-01T21:12:51.255415Z",
          "shell.execute_reply": "2023-02-01T21:12:55.110446Z"
        },
        "trusted": true
      },
      "execution_count": 316,
      "outputs": []
    },
    {
      "cell_type": "code",
      "source": [
        "optimizer = optim.Adam(seq2seq.parameters(), lr=0.001)\n",
        "criterion = nn.CrossEntropyLoss()"
      ],
      "metadata": {
        "id": "pH0nrKSrNM-y"
      },
      "execution_count": 317,
      "outputs": []
    },
    {
      "cell_type": "code",
      "source": [
        "def init_weights(m):\n",
        "    for name, param in m.named_parameters():\n",
        "        nn.init.xavier_uniform_(param.data.unsqueeze_(0))\n",
        "        \n",
        "seq2seq.apply(init_weights)"
      ],
      "metadata": {
        "colab": {
          "base_uri": "https://localhost:8080/"
        },
        "id": "SxC6K3CLU95b",
        "outputId": "5da9d56b-2b4b-4056-ce7e-bb2553ae7638",
        "execution": {
          "iopub.status.busy": "2023-02-01T21:12:55.114161Z",
          "iopub.execute_input": "2023-02-01T21:12:55.114869Z",
          "iopub.status.idle": "2023-02-01T21:12:55.125422Z",
          "shell.execute_reply.started": "2023-02-01T21:12:55.114827Z",
          "shell.execute_reply": "2023-02-01T21:12:55.124271Z"
        },
        "trusted": true
      },
      "execution_count": 318,
      "outputs": [
        {
          "output_type": "execute_result",
          "data": {
            "text/plain": [
              "Seq2seq(\n",
              "  (encoder): Encoder(\n",
              "    (embedding): Embedding(3045, 300)\n",
              "    (rnn): GRU(300, 512, dropout=0.5)\n",
              "    (dropout): Dropout(p=0.5, inplace=False)\n",
              "  )\n",
              "  (decoder): Decoder(\n",
              "    (embedding): Embedding(3931, 300)\n",
              "    (rnn): GRU(300, 512, dropout=0.5)\n",
              "    (fc1): Linear(in_features=512, out_features=3931, bias=True)\n",
              "    (dropout): Dropout(p=0.5, inplace=False)\n",
              "  )\n",
              ")"
            ]
          },
          "metadata": {},
          "execution_count": 318
        }
      ]
    },
    {
      "cell_type": "code",
      "source": [
        "def count_parameters(model):\n",
        "    return sum(p.numel() for p in seq2seq.parameters() if p.requires_grad)\n",
        "\n",
        "print(f'The model has {count_parameters(seq2seq):,} trainable parameters')"
      ],
      "metadata": {
        "colab": {
          "base_uri": "https://localhost:8080/"
        },
        "id": "MpSx_8z4vKWi",
        "outputId": "b6132804-c60b-47f6-fec9-c27ba371e910"
      },
      "execution_count": 319,
      "outputs": [
        {
          "output_type": "stream",
          "name": "stdout",
          "text": [
            "The model has 6,610,011 trainable parameters\n"
          ]
        }
      ]
    },
    {
      "cell_type": "code",
      "source": [
        "def pair2tensor(pair):\n",
        "    source = torch.tensor([source_lang.word2idx[word] for word in pair[0].split()], dtype=torch.long)\n",
        "    target = torch.tensor([target_lang.word2idx[word] for word in pair[1].split()], dtype=torch.long)\n",
        "\n",
        "    return source.unsqueeze(1), target.unsqueeze(1)"
      ],
      "metadata": {
        "id": "IjZAaotyM_sb"
      },
      "execution_count": 320,
      "outputs": []
    },
    {
      "cell_type": "code",
      "source": [
        "data_size = len(pairs)\n",
        "data_size"
      ],
      "metadata": {
        "execution": {
          "iopub.status.busy": "2023-02-01T21:27:12.529813Z",
          "iopub.execute_input": "2023-02-01T21:27:12.530196Z",
          "iopub.status.idle": "2023-02-01T21:27:12.536507Z",
          "shell.execute_reply.started": "2023-02-01T21:27:12.530167Z",
          "shell.execute_reply": "2023-02-01T21:27:12.535453Z"
        },
        "trusted": true,
        "colab": {
          "base_uri": "https://localhost:8080/"
        },
        "id": "RCQxMdZMt63E",
        "outputId": "709fccd9-75c5-4a55-d415-92fbd091ed58"
      },
      "execution_count": 321,
      "outputs": [
        {
          "output_type": "execute_result",
          "data": {
            "text/plain": [
              "4195"
            ]
          },
          "metadata": {},
          "execution_count": 321
        }
      ]
    },
    {
      "cell_type": "code",
      "source": [
        "max_epoch = 15\n",
        "best_epoch_loss = inf\n",
        "\n",
        "epochs = []\n",
        "losses = []\n",
        "\n",
        "for epoch in range(1, max_epoch):\n",
        "    seq2seq.train()\n",
        "\n",
        "    epoch_loss = 0\n",
        "    \n",
        "    for step, pair in enumerate(tqdm(pairs)):\n",
        "        source, target = pair2tensor(pair)\n",
        "        source, target = source.to(device), target.to(device)\n",
        "\n",
        "        optimizer.zero_grad()\n",
        "\n",
        "        output = seq2seq.forward(source, target, teacher_forcing_ratio=0.5)\n",
        "\n",
        "        loss = criterion(output, target[1:].squeeze())\n",
        "\n",
        "        loss.backward()\n",
        "        torch.nn.utils.clip_grad_norm_(seq2seq.parameters(), 1)\n",
        "        optimizer.step()\n",
        "\n",
        "        epoch_loss += loss.item()\n",
        "\n",
        "    epochs.append(epoch)\n",
        "    losses.append(epoch_loss / data_size)\n",
        "\n",
        "    print('epoch:', epoch)\n",
        "    print('loss:', epoch_loss / data_size)\n",
        "\n",
        "    if epoch_loss < best_epoch_loss:\n",
        "        best_epoch_loss = epoch_loss\n",
        "        torch.save(seq2seq.state_dict(), 'seq2seq_model.pt')"
      ],
      "metadata": {
        "id": "ujpo-_S0QhYo",
        "execution": {
          "iopub.status.busy": "2023-02-01T22:14:58.909197Z",
          "iopub.execute_input": "2023-02-01T22:14:58.909594Z",
          "iopub.status.idle": "2023-02-01T22:42:21.612743Z",
          "shell.execute_reply.started": "2023-02-01T22:14:58.909558Z",
          "shell.execute_reply": "2023-02-01T22:42:21.611786Z"
        },
        "trusted": true,
        "colab": {
          "base_uri": "https://localhost:8080/"
        },
        "outputId": "4dc1a215-ada6-4514-ef71-172c96d223a2"
      },
      "execution_count": 322,
      "outputs": [
        {
          "output_type": "stream",
          "name": "stdout",
          "text": [
            "100%|██████████| 4195/4195 [01:04<00:00, 65.18it/s]\n"
          ]
        },
        {
          "output_type": "stream",
          "name": "stdout",
          "text": [
            "epoch: 1\n",
            "loss: 4.476071206449183\n"
          ]
        },
        {
          "output_type": "stream",
          "name": "stdout",
          "text": [
            "100%|██████████| 4195/4195 [01:04<00:00, 65.35it/s]\n"
          ]
        },
        {
          "output_type": "stream",
          "name": "stdout",
          "text": [
            "epoch: 2\n",
            "loss: 3.0972251057340645\n"
          ]
        },
        {
          "output_type": "stream",
          "name": "stdout",
          "text": [
            "100%|██████████| 4195/4195 [01:04<00:00, 64.99it/s]\n"
          ]
        },
        {
          "output_type": "stream",
          "name": "stdout",
          "text": [
            "epoch: 3\n",
            "loss: 2.2248564099064887\n"
          ]
        },
        {
          "output_type": "stream",
          "name": "stdout",
          "text": [
            "100%|██████████| 4195/4195 [01:04<00:00, 64.63it/s]\n"
          ]
        },
        {
          "output_type": "stream",
          "name": "stdout",
          "text": [
            "epoch: 4\n",
            "loss: 1.5322842244334136\n"
          ]
        },
        {
          "output_type": "stream",
          "name": "stdout",
          "text": [
            "100%|██████████| 4195/4195 [01:03<00:00, 65.89it/s]\n"
          ]
        },
        {
          "output_type": "stream",
          "name": "stdout",
          "text": [
            "epoch: 5\n",
            "loss: 1.0657983128567525\n"
          ]
        },
        {
          "output_type": "stream",
          "name": "stdout",
          "text": [
            "100%|██████████| 4195/4195 [01:03<00:00, 66.29it/s]\n"
          ]
        },
        {
          "output_type": "stream",
          "name": "stdout",
          "text": [
            "epoch: 6\n",
            "loss: 0.80821928849224\n"
          ]
        },
        {
          "output_type": "stream",
          "name": "stdout",
          "text": [
            "100%|██████████| 4195/4195 [01:04<00:00, 65.12it/s]\n"
          ]
        },
        {
          "output_type": "stream",
          "name": "stdout",
          "text": [
            "epoch: 7\n",
            "loss: 0.6665177236455443\n"
          ]
        },
        {
          "output_type": "stream",
          "name": "stdout",
          "text": [
            "100%|██████████| 4195/4195 [01:03<00:00, 66.21it/s]\n"
          ]
        },
        {
          "output_type": "stream",
          "name": "stdout",
          "text": [
            "epoch: 8\n",
            "loss: 0.5860353179701551\n"
          ]
        },
        {
          "output_type": "stream",
          "name": "stdout",
          "text": [
            "100%|██████████| 4195/4195 [01:03<00:00, 66.39it/s]\n"
          ]
        },
        {
          "output_type": "stream",
          "name": "stdout",
          "text": [
            "epoch: 9\n",
            "loss: 0.5553419030970518\n"
          ]
        },
        {
          "output_type": "stream",
          "name": "stdout",
          "text": [
            "100%|██████████| 4195/4195 [01:03<00:00, 65.84it/s]\n"
          ]
        },
        {
          "output_type": "stream",
          "name": "stdout",
          "text": [
            "epoch: 10\n",
            "loss: 0.5239509943205002\n"
          ]
        },
        {
          "output_type": "stream",
          "name": "stdout",
          "text": [
            "100%|██████████| 4195/4195 [01:03<00:00, 65.93it/s]\n"
          ]
        },
        {
          "output_type": "stream",
          "name": "stdout",
          "text": [
            "epoch: 11\n",
            "loss: 0.5150765416232881\n"
          ]
        },
        {
          "output_type": "stream",
          "name": "stdout",
          "text": [
            "100%|██████████| 4195/4195 [01:03<00:00, 65.88it/s]\n"
          ]
        },
        {
          "output_type": "stream",
          "name": "stdout",
          "text": [
            "epoch: 12\n",
            "loss: 0.5129708462215226\n"
          ]
        },
        {
          "output_type": "stream",
          "name": "stdout",
          "text": [
            "100%|██████████| 4195/4195 [01:03<00:00, 66.10it/s]\n"
          ]
        },
        {
          "output_type": "stream",
          "name": "stdout",
          "text": [
            "epoch: 13\n",
            "loss: 0.48480373297389806\n"
          ]
        },
        {
          "output_type": "stream",
          "name": "stdout",
          "text": [
            "100%|██████████| 4195/4195 [01:04<00:00, 65.19it/s]"
          ]
        },
        {
          "output_type": "stream",
          "name": "stdout",
          "text": [
            "epoch: 14\n",
            "loss: 0.48734463785738374\n"
          ]
        },
        {
          "output_type": "stream",
          "name": "stdout",
          "text": [
            "\n"
          ]
        }
      ]
    },
    {
      "cell_type": "code",
      "source": [
        "plt.plot(epochs, losses, color='darkslategray', linewidth=2)\n",
        "plt.xlabel('Epoch', size=22)\n",
        "plt.ylabel('Loss', size=22)\n",
        "plt.title('fit process', size=22, y=1, \n",
        "          fontweight='bold', color='#444444')\n",
        "plt.show()"
      ],
      "metadata": {
        "colab": {
          "base_uri": "https://localhost:8080/",
          "height": 593
        },
        "id": "gq3pmsnaRNAY",
        "outputId": "9738053b-388f-4ac1-dc96-6ee27e958bb8"
      },
      "execution_count": 323,
      "outputs": [
        {
          "output_type": "display_data",
          "data": {
            "text/plain": [
              "<Figure size 800x600 with 1 Axes>"
            ],
            "image/png": "[encoded data removed]"
          },
          "metadata": {}
        }
      ]
    },
    {
      "cell_type": "code",
      "source": [
        "def evaluate(model, num_samples):\n",
        "    for sample in range(num_samples):\n",
        "        seq2seq.eval()\n",
        "        source, target = random.choice(pairs)\n",
        "        print('>', source)\n",
        "        print('=', target)\n",
        "        source, target = pair2tensor([source, target])\n",
        "\n",
        "        outputs = seq2seq.forward(source.to(device), target.to(device), \n",
        "                                teacher_forcing_ratio=0)\n",
        "        \n",
        "        predicted = ' '.join([target_lang.idx2word[word.item()] \n",
        "                            for word in outputs.argmax(1)])\n",
        "        \n",
        "        print('<', predicted)\n",
        "        print('\\n')"
      ],
      "metadata": {
        "id": "9tk2Bbqwf5sX",
        "execution": {
          "iopub.status.busy": "2023-02-01T22:45:19.704047Z",
          "iopub.execute_input": "2023-02-01T22:45:19.704457Z",
          "iopub.status.idle": "2023-02-01T22:45:19.715965Z",
          "shell.execute_reply.started": "2023-02-01T22:45:19.704423Z",
          "shell.execute_reply": "2023-02-01T22:45:19.715073Z"
        },
        "trusted": true
      },
      "execution_count": 324,
      "outputs": []
    },
    {
      "cell_type": "code",
      "source": [
        "evaluate(seq2seq, num_samples=5)"
      ],
      "metadata": {
        "colab": {
          "base_uri": "https://localhost:8080/"
        },
        "id": "MFBs5KSPQn23",
        "outputId": "567abbe5-b9e6-4675-f108-fb3f952cc525"
      },
      "execution_count": 325,
      "outputs": [
        {
          "output_type": "stream",
          "name": "stdout",
          "text": [
            "> <sos> a little boy in blue doing bike jumps <eos>\n",
            "= <sos> ein kleiner junge in blauer kleidung macht fahrradsprunge <eos>\n",
            "< ein kleiner junge in blauer kleidung macht fahrradsprunge <eos>\n",
            "\n",
            "\n",
            "> <sos> a brown dog is running through the field <eos>\n",
            "= <sos> ein brauner hund rennt uber das feld <eos>\n",
            "< ein brauner hund rennt uber das feld <eos>\n",
            "\n",
            "\n",
            "> <sos> three thin women in colorful dresses <eos>\n",
            "= <sos> drei dunne frauen in bunten kleidern <eos>\n",
            "< drei dunne frauen in bunten kleidern <eos>\n",
            "\n",
            "\n",
            "> <sos> three quarterbacks warming up before the game <eos>\n",
            "= <sos> drei quarterbacks warmen sich vor dem spiel auf <eos>\n",
            "< drei quarterbacks warmen sich vor dem spiel auf <eos>\n",
            "\n",
            "\n",
            "> <sos> several young girls stand in a rural road <eos>\n",
            "= <sos> mehrere kleine madchen stehen auf einer landstra e <eos>\n",
            "< mehrere junge kinder sitzen auf einem quietschgelben motorrad <eos>\n",
            "\n",
            "\n"
          ]
        }
      ]
    },
    {
      "cell_type": "markdown",
      "source": [
        "**resources**\n",
        "\n",
        "https://pytorch.org/tutorials/intermediate/seq2seq_translation_tutorial.html\n",
        "https://github.com/bentrevett/pytorch-seq2seq\n",
        "https://lena-voita.github.io/nlp_course/seq2seq_and_attention.html\n",
        "https://uvadlc-notebooks.readthedocs.io/en/latest/tutorial_notebooks/JAX/tutorial6/Transformers_and_MHAttention.html\n"
      ],
      "metadata": {
        "id": "gQDIQDR0ruxw"
      }
    }
  ]
}
