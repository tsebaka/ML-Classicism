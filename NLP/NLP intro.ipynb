{
  "nbformat": 4,
  "nbformat_minor": 0,
  "metadata": {
    "colab": {
      "provenance": []
    },
    "kernelspec": {
      "name": "python3",
      "display_name": "Python 3"
    },
    "language_info": {
      "name": "python"
    }
  },
  "cells": [
    {
      "cell_type": "code",
      "source": [
        "import numpy as np\n",
        "import pandas as pd"
      ],
      "metadata": {
        "id": "qdfXdRjE7NdC"
      },
      "execution_count": 6,
      "outputs": []
    },
    {
      "cell_type": "markdown",
      "source": [
        "$\\large\\text{NLP Intro to word embeddings}$"
      ],
      "metadata": {
        "id": "1CSKfdCz6aLK"
      }
    },
    {
      "cell_type": "code",
      "execution_count": 10,
      "metadata": {
        "id": "ISD9Gpsbk6bv"
      },
      "outputs": [],
      "source": [
        "words = ['Walter', 'Jesse', 'Gus']"
      ]
    },
    {
      "cell_type": "markdown",
      "source": [
        "$\\text{One hot encoding}$"
      ],
      "metadata": {
        "id": "NKIXIBiD659U"
      }
    },
    {
      "cell_type": "code",
      "source": [
        "encode = []"
      ],
      "metadata": {
        "id": "7PvCR-1P7L-_"
      },
      "execution_count": 11,
      "outputs": []
    },
    {
      "cell_type": "code",
      "source": [
        "for i in range(len(words)):\n",
        "    encode.append(np.zeros(len(words)))\n",
        "    encode[i][i] = 1\n",
        "    print('word:', words[i] + ',', 'encode:', encode[i])"
      ],
      "metadata": {
        "colab": {
          "base_uri": "https://localhost:8080/"
        },
        "id": "3tEyRlnQ65iS",
        "outputId": "3eb3a138-211d-48ff-89f1-a7564300976e"
      },
      "execution_count": 12,
      "outputs": [
        {
          "output_type": "stream",
          "name": "stdout",
          "text": [
            "word: Walter, encode: [1. 0. 0.]\n",
            "word: Jesse, encode: [0. 1. 0.]\n",
            "word: Gus, encode: [0. 0. 1.]\n"
          ]
        }
      ]
    },
    {
      "cell_type": "markdown",
      "source": [
        "***"
      ],
      "metadata": {
        "id": "eGomBaLBCbVV"
      }
    },
    {
      "cell_type": "markdown",
      "source": [
        "$\\text{Bag of Words}$"
      ],
      "metadata": {
        "id": "8j6yj4TI9Ojm"
      }
    },
    {
      "cell_type": "code",
      "source": [
        "dictionary = ['Walter', 'Jesse', 'Gus', 'Hank', 'Saul', 'Skyler', 'and']"
      ],
      "metadata": {
        "id": "BwN-qnj59c8K"
      },
      "execution_count": null,
      "outputs": []
    },
    {
      "cell_type": "code",
      "source": [
        "sentence = ['Walter', 'and', 'Gus']\n",
        "encode = [0, 0, 0, 0, 0, 0, 0]"
      ],
      "metadata": {
        "id": "XRD74alR-A_s"
      },
      "execution_count": null,
      "outputs": []
    },
    {
      "cell_type": "code",
      "source": [
        "for i in sentence:\n",
        "    for j, word in enumerate(dictionary):\n",
        "        if i == word:\n",
        "            encode[j] = 1\n",
        "            break\n",
        "print('sentence:', words, end='') \n",
        "print(',', 'encode:', encode)"
      ],
      "metadata": {
        "colab": {
          "base_uri": "https://localhost:8080/"
        },
        "id": "214gjUsi-G9y",
        "outputId": "8f89861e-1080-4cfa-f17e-af5d08f61173"
      },
      "execution_count": null,
      "outputs": [
        {
          "output_type": "stream",
          "name": "stdout",
          "text": [
            "sentence: ['Walter', 'Jesse', 'Gus'], encode: [1, 0, 1, 0, 0, 0, 1]\n"
          ]
        }
      ]
    },
    {
      "cell_type": "markdown",
      "source": [
        "***"
      ],
      "metadata": {
        "id": "jvMS7UOtCZWf"
      }
    },
    {
      "cell_type": "markdown",
      "source": [
        "$\\text{Token normalization}$"
      ],
      "metadata": {
        "id": "8AhzixMPCBSO"
      }
    },
    {
      "cell_type": "markdown",
      "source": [
        "$\\small\\text{Stemming | Porter's stemmer}$"
      ],
      "metadata": {
        "id": "dbofeQIBCeaY"
      }
    },
    {
      "cell_type": "markdown",
      "source": [
        "$\\small\\text{Lemmatization | NLTK | WordNet}$"
      ],
      "metadata": {
        "id": "Xl_gk1OQCwIi"
      }
    },
    {
      "cell_type": "code",
      "source": [
        "import nltk\n",
        "from nltk.tokenize import word_tokenize\n",
        "from nltk.corpus import stopwords"
      ],
      "metadata": {
        "id": "bJl83UcdEIUo"
      },
      "execution_count": null,
      "outputs": []
    },
    {
      "cell_type": "code",
      "source": [
        "nltk.download('stopwords')\n",
        "stopWords = set(stopwords.words('english'))\n",
        "nltk.download('punkt')"
      ],
      "metadata": {
        "colab": {
          "base_uri": "https://localhost:8080/"
        },
        "id": "7aIX9VEMGTLq",
        "outputId": "222dabc3-fb6a-49f7-89fa-c22a217d1005"
      },
      "execution_count": null,
      "outputs": [
        {
          "output_type": "stream",
          "name": "stderr",
          "text": [
            "[nltk_data] Downloading package stopwords to /root/nltk_data...\n",
            "[nltk_data]   Package stopwords is already up-to-date!\n",
            "[nltk_data] Downloading package punkt to /root/nltk_data...\n",
            "[nltk_data]   Package punkt is already up-to-date!\n"
          ]
        },
        {
          "output_type": "execute_result",
          "data": {
            "text/plain": [
              "True"
            ]
          },
          "metadata": {},
          "execution_count": 533
        }
      ]
    },
    {
      "cell_type": "code",
      "source": [
        "sentense = 'Walter kill Gus and 9 prisoners'\n",
        "words = word_tokenize(sentense)"
      ],
      "metadata": {
        "id": "VaQsSuVLEP_v"
      },
      "execution_count": null,
      "outputs": []
    },
    {
      "cell_type": "code",
      "source": [
        "words"
      ],
      "metadata": {
        "colab": {
          "base_uri": "https://localhost:8080/"
        },
        "id": "FTHogIpbGtzZ",
        "outputId": "a1e2cd21-ba57-4dc9-bb00-ee95d7c6d836"
      },
      "execution_count": null,
      "outputs": [
        {
          "output_type": "execute_result",
          "data": {
            "text/plain": [
              "['Walter', 'kill', 'Gus', 'and', '9', 'prisoners']"
            ]
          },
          "metadata": {},
          "execution_count": 535
        }
      ]
    },
    {
      "cell_type": "code",
      "source": [
        "wordsFiltered = []"
      ],
      "metadata": {
        "id": "mE6l9gnyHwCv"
      },
      "execution_count": null,
      "outputs": []
    },
    {
      "cell_type": "code",
      "source": [
        "for w in words:\n",
        "    if w not in stopWords:\n",
        "        wordsFiltered.append(w)\n",
        "\n",
        "print(wordsFiltered)"
      ],
      "metadata": {
        "colab": {
          "base_uri": "https://localhost:8080/"
        },
        "id": "n1X9kBPcEJhf",
        "outputId": "bf6f647c-b837-414c-c631-fdf35b799907"
      },
      "execution_count": null,
      "outputs": [
        {
          "output_type": "stream",
          "name": "stdout",
          "text": [
            "['Walter', 'kill', 'Gus', '9', 'prisoners']\n"
          ]
        }
      ]
    },
    {
      "cell_type": "markdown",
      "source": [
        "***"
      ],
      "metadata": {
        "id": "56WKjm2TDpyz"
      }
    },
    {
      "cell_type": "markdown",
      "source": [
        "$\\text{Use n-gramms}$"
      ],
      "metadata": {
        "id": "7rqnOffxIyUS"
      }
    },
    {
      "cell_type": "markdown",
      "source": [
        "$\\small\\text{Now bi-gramms is our tokens}$"
      ],
      "metadata": {
        "id": "BU56laXYI413"
      }
    },
    {
      "cell_type": "code",
      "source": [
        "from nltk import ngrams\n",
        "n = 2\n",
        "sixgrams = ngrams(wordsFiltered, n)\n",
        "\n",
        "for grams in sixgrams:\n",
        "  print(grams)"
      ],
      "metadata": {
        "colab": {
          "base_uri": "https://localhost:8080/"
        },
        "id": "1OROkG4VJAK5",
        "outputId": "4d922b2d-1693-4695-bd10-3fac45337b8e"
      },
      "execution_count": null,
      "outputs": [
        {
          "output_type": "stream",
          "name": "stdout",
          "text": [
            "('Walter', 'kill')\n",
            "('kill', 'Gus')\n",
            "('Gus', '9')\n",
            "('9', 'prisoners')\n"
          ]
        }
      ]
    },
    {
      "cell_type": "markdown",
      "source": [
        "![image.png](data:image/png;base64,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)"
      ],
      "metadata": {
        "id": "f00o0XppOWkp"
      }
    },
    {
      "cell_type": "markdown",
      "source": [
        "***"
      ],
      "metadata": {
        "id": "foXw7n_ROSVV"
      }
    },
    {
      "cell_type": "markdown",
      "source": [
        "$\\text{Tf and Idf}$"
      ],
      "metadata": {
        "id": "qBsKrkUPPGv0"
      }
    },
    {
      "cell_type": "code",
      "source": [
        "n = 2\n",
        "\n",
        "sentense_A = 'Jesse love Andrea and Brock'\n",
        "\n",
        "sentense_B = 'Jesse hate Todd and Jack'"
      ],
      "metadata": {
        "id": "kZQgGh7aJz5F"
      },
      "execution_count": null,
      "outputs": []
    },
    {
      "cell_type": "code",
      "source": [
        "dictionary = word_tokenize(sentense_A + ' ' + sentense_B)\n",
        "dictionary = dictionary[0:5] + dictionary[6:8] + dictionary[9:10]\n",
        "dictionary_with_duplicate = word_tokenize(sentense_A + ' ' + sentense_B)\n",
        "dictionary"
      ],
      "metadata": {
        "colab": {
          "base_uri": "https://localhost:8080/"
        },
        "id": "GKZrQV6EQBNT",
        "outputId": "a1e79e0d-d2df-4f55-88e8-73a3a5d601a3"
      },
      "execution_count": null,
      "outputs": [
        {
          "output_type": "execute_result",
          "data": {
            "text/plain": [
              "['Jesse', 'love', 'Andrea', 'and', 'Brock', 'hate', 'Todd', 'Jack']"
            ]
          },
          "metadata": {},
          "execution_count": 540
        }
      ]
    },
    {
      "cell_type": "markdown",
      "source": [
        "$\\text{tf}$"
      ],
      "metadata": {
        "id": "ZsdF9C_NeTvZ"
      }
    },
    {
      "cell_type": "code",
      "source": [
        "tf_A = [0] * len(dictionary)\n",
        "tf_B = [0] * len(dictionary)\n",
        "\n",
        "for i, word in enumerate(dictionary):\n",
        "    tf_A[i] = sentense_A.count(word) / len(sentense_A.split(' '))\n",
        "    tf_B[i] = sentense_B.count(word) / len(sentense_B.split(' '))"
      ],
      "metadata": {
        "id": "RjfmxumKWkfL"
      },
      "execution_count": null,
      "outputs": []
    },
    {
      "cell_type": "markdown",
      "source": [
        "$\\text{idf}$"
      ],
      "metadata": {
        "id": "rvyhxQNTeYB5"
      }
    },
    {
      "cell_type": "code",
      "source": [
        "idf_A = [0] * len(dictionary)\n",
        "idf_B = [0] * len(dictionary)\n",
        "\n",
        "for i, word in enumerate(dictionary):\n",
        "    idf_A[i] = np.log(n / dictionary_with_duplicate.count(word))\n",
        "    idf_B[i] = np.log(n / dictionary_with_duplicate.count(word))"
      ],
      "metadata": {
        "id": "O0PEqfnzewem"
      },
      "execution_count": null,
      "outputs": []
    },
    {
      "cell_type": "code",
      "source": [
        "data = pd.DataFrame({'Words':dictionary, 'tf_A':tf_A, 'tf_B':tf_B, 'idf_A':idf_A, 'idf_B':idf_B})\n",
        "data['tf * idf A'] = data['tf_A'] * data['idf_A']\n",
        "data['tf * idf B'] = data['tf_B'] * data['idf_B']\n",
        "data"
      ],
      "metadata": {
        "colab": {
          "base_uri": "https://localhost:8080/",
          "height": 300
        },
        "id": "94YBgFP5VC90",
        "outputId": "136511f7-7938-4667-d557-81a101369b2c"
      },
      "execution_count": null,
      "outputs": [
        {
          "output_type": "execute_result",
          "data": {
            "text/plain": [
              "    Words  tf_A  tf_B     idf_A     idf_B  tf * idf A  tf * idf B\n",
              "0   Jesse   0.2   0.2  0.000000  0.000000    0.000000    0.000000\n",
              "1    love   0.2   0.0  0.693147  0.693147    0.138629    0.000000\n",
              "2  Andrea   0.2   0.0  0.693147  0.693147    0.138629    0.000000\n",
              "3     and   0.2   0.2  0.000000  0.000000    0.000000    0.000000\n",
              "4   Brock   0.2   0.0  0.693147  0.693147    0.138629    0.000000\n",
              "5    hate   0.0   0.2  0.693147  0.693147    0.000000    0.138629\n",
              "6    Todd   0.0   0.2  0.693147  0.693147    0.000000    0.138629\n",
              "7    Jack   0.0   0.2  0.693147  0.693147    0.000000    0.138629"
            ],
            "text/html": [
              "\n",
              "  <div id=\"df-cb312957-709a-4683-8bd7-f2f30b604a8e\">\n",
              "    <div class=\"colab-df-container\">\n",
              "      <div>\n",
              "<style scoped>\n",
              "    .dataframe tbody tr th:only-of-type {\n",
              "        vertical-align: middle;\n",
              "    }\n",
              "\n",
              "    .dataframe tbody tr th {\n",
              "        vertical-align: top;\n",
              "    }\n",
              "\n",
              "    .dataframe thead th {\n",
              "        text-align: right;\n",
              "    }\n",
              "</style>\n",
              "<table border=\"1\" class=\"dataframe\">\n",
              "  <thead>\n",
              "    <tr style=\"text-align: right;\">\n",
              "      <th></th>\n",
              "      <th>Words</th>\n",
              "      <th>tf_A</th>\n",
              "      <th>tf_B</th>\n",
              "      <th>idf_A</th>\n",
              "      <th>idf_B</th>\n",
              "      <th>tf * idf A</th>\n",
              "      <th>tf * idf B</th>\n",
              "    </tr>\n",
              "  </thead>\n",
              "  <tbody>\n",
              "    <tr>\n",
              "      <th>0</th>\n",
              "      <td>Jesse</td>\n",
              "      <td>0.2</td>\n",
              "      <td>0.2</td>\n",
              "      <td>0.000000</td>\n",
              "      <td>0.000000</td>\n",
              "      <td>0.000000</td>\n",
              "      <td>0.000000</td>\n",
              "    </tr>\n",
              "    <tr>\n",
              "      <th>1</th>\n",
              "      <td>love</td>\n",
              "      <td>0.2</td>\n",
              "      <td>0.0</td>\n",
              "      <td>0.693147</td>\n",
              "      <td>0.693147</td>\n",
              "      <td>0.138629</td>\n",
              "      <td>0.000000</td>\n",
              "    </tr>\n",
              "    <tr>\n",
              "      <th>2</th>\n",
              "      <td>Andrea</td>\n",
              "      <td>0.2</td>\n",
              "      <td>0.0</td>\n",
              "      <td>0.693147</td>\n",
              "      <td>0.693147</td>\n",
              "      <td>0.138629</td>\n",
              "      <td>0.000000</td>\n",
              "    </tr>\n",
              "    <tr>\n",
              "      <th>3</th>\n",
              "      <td>and</td>\n",
              "      <td>0.2</td>\n",
              "      <td>0.2</td>\n",
              "      <td>0.000000</td>\n",
              "      <td>0.000000</td>\n",
              "      <td>0.000000</td>\n",
              "      <td>0.000000</td>\n",
              "    </tr>\n",
              "    <tr>\n",
              "      <th>4</th>\n",
              "      <td>Brock</td>\n",
              "      <td>0.2</td>\n",
              "      <td>0.0</td>\n",
              "      <td>0.693147</td>\n",
              "      <td>0.693147</td>\n",
              "      <td>0.138629</td>\n",
              "      <td>0.000000</td>\n",
              "    </tr>\n",
              "    <tr>\n",
              "      <th>5</th>\n",
              "      <td>hate</td>\n",
              "      <td>0.0</td>\n",
              "      <td>0.2</td>\n",
              "      <td>0.693147</td>\n",
              "      <td>0.693147</td>\n",
              "      <td>0.000000</td>\n",
              "      <td>0.138629</td>\n",
              "    </tr>\n",
              "    <tr>\n",
              "      <th>6</th>\n",
              "      <td>Todd</td>\n",
              "      <td>0.0</td>\n",
              "      <td>0.2</td>\n",
              "      <td>0.693147</td>\n",
              "      <td>0.693147</td>\n",
              "      <td>0.000000</td>\n",
              "      <td>0.138629</td>\n",
              "    </tr>\n",
              "    <tr>\n",
              "      <th>7</th>\n",
              "      <td>Jack</td>\n",
              "      <td>0.0</td>\n",
              "      <td>0.2</td>\n",
              "      <td>0.693147</td>\n",
              "      <td>0.693147</td>\n",
              "      <td>0.000000</td>\n",
              "      <td>0.138629</td>\n",
              "    </tr>\n",
              "  </tbody>\n",
              "</table>\n",
              "</div>\n",
              "      <button class=\"colab-df-convert\" onclick=\"convertToInteractive('df-cb312957-709a-4683-8bd7-f2f30b604a8e')\"\n",
              "              title=\"Convert this dataframe to an interactive table.\"\n",
              "              style=\"display:none;\">\n",
              "        \n",
              "  <svg xmlns=\"http://www.w3.org/2000/svg\" height=\"24px\"viewBox=\"0 0 24 24\"\n",
              "       width=\"24px\">\n",
              "    <path d=\"M0 0h24v24H0V0z\" fill=\"none\"/>\n",
              "    <path d=\"M18.56 5.44l.94 2.06.94-2.06 2.06-.94-2.06-.94-.94-2.06-.94 2.06-2.06.94zm-11 1L8.5 8.5l.94-2.06 2.06-.94-2.06-.94L8.5 2.5l-.94 2.06-2.06.94zm10 10l.94 2.06.94-2.06 2.06-.94-2.06-.94-.94-2.06-.94 2.06-2.06.94z\"/><path d=\"M17.41 7.96l-1.37-1.37c-.4-.4-.92-.59-1.43-.59-.52 0-1.04.2-1.43.59L10.3 9.45l-7.72 7.72c-.78.78-.78 2.05 0 2.83L4 21.41c.39.39.9.59 1.41.59.51 0 1.02-.2 1.41-.59l7.78-7.78 2.81-2.81c.8-.78.8-2.07 0-2.86zM5.41 20L4 18.59l7.72-7.72 1.47 1.35L5.41 20z\"/>\n",
              "  </svg>\n",
              "      </button>\n",
              "      \n",
              "  <style>\n",
              "    .colab-df-container {\n",
              "      display:flex;\n",
              "      flex-wrap:wrap;\n",
              "      gap: 12px;\n",
              "    }\n",
              "\n",
              "    .colab-df-convert {\n",
              "      background-color: #E8F0FE;\n",
              "      border: none;\n",
              "      border-radius: 50%;\n",
              "      cursor: pointer;\n",
              "      display: none;\n",
              "      fill: #1967D2;\n",
              "      height: 32px;\n",
              "      padding: 0 0 0 0;\n",
              "      width: 32px;\n",
              "    }\n",
              "\n",
              "    .colab-df-convert:hover {\n",
              "      background-color: #E2EBFA;\n",
              "      box-shadow: 0px 1px 2px rgba(60, 64, 67, 0.3), 0px 1px 3px 1px rgba(60, 64, 67, 0.15);\n",
              "      fill: #174EA6;\n",
              "    }\n",
              "\n",
              "    [theme=dark] .colab-df-convert {\n",
              "      background-color: #3B4455;\n",
              "      fill: #D2E3FC;\n",
              "    }\n",
              "\n",
              "    [theme=dark] .colab-df-convert:hover {\n",
              "      background-color: #434B5C;\n",
              "      box-shadow: 0px 1px 3px 1px rgba(0, 0, 0, 0.15);\n",
              "      filter: drop-shadow(0px 1px 2px rgba(0, 0, 0, 0.3));\n",
              "      fill: #FFFFFF;\n",
              "    }\n",
              "  </style>\n",
              "\n",
              "      <script>\n",
              "        const buttonEl =\n",
              "          document.querySelector('#df-cb312957-709a-4683-8bd7-f2f30b604a8e button.colab-df-convert');\n",
              "        buttonEl.style.display =\n",
              "          google.colab.kernel.accessAllowed ? 'block' : 'none';\n",
              "\n",
              "        async function convertToInteractive(key) {\n",
              "          const element = document.querySelector('#df-cb312957-709a-4683-8bd7-f2f30b604a8e');\n",
              "          const dataTable =\n",
              "            await google.colab.kernel.invokeFunction('convertToInteractive',\n",
              "                                                     [key], {});\n",
              "          if (!dataTable) return;\n",
              "\n",
              "          const docLinkHtml = 'Like what you see? Visit the ' +\n",
              "            '<a target=\"_blank\" href=https://colab.research.google.com/notebooks/data_table.ipynb>data table notebook</a>'\n",
              "            + ' to learn more about interactive tables.';\n",
              "          element.innerHTML = '';\n",
              "          dataTable['output_type'] = 'display_data';\n",
              "          await google.colab.output.renderOutput(dataTable, element);\n",
              "          const docLink = document.createElement('div');\n",
              "          docLink.innerHTML = docLinkHtml;\n",
              "          element.appendChild(docLink);\n",
              "        }\n",
              "      </script>\n",
              "    </div>\n",
              "  </div>\n",
              "  "
            ]
          },
          "metadata": {},
          "execution_count": 543
        }
      ]
    },
    {
      "cell_type": "markdown",
      "source": [
        "***"
      ],
      "metadata": {
        "id": "9SpCgyjxio99"
      }
    }
  ]
}