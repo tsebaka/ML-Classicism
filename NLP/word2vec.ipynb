{
  "nbformat": 4,
  "nbformat_minor": 0,
  "metadata": {
    "colab": {
      "provenance": []
    },
    "kernelspec": {
      "name": "python3",
      "display_name": "Python 3"
    },
    "language_info": {
      "name": "python"
    }
  },
  "cells": [
    {
      "cell_type": "code",
      "execution_count": 24,
      "metadata": {
        "id": "_1IrOD_hjJfa"
      },
      "outputs": [],
      "source": [
        "import numpy as np\n",
        "import pandas as pd\n",
        "import nltk\n",
        "\n",
        "import warnings\n",
        "warnings.filterwarnings('ignore')"
      ]
    },
    {
      "cell_type": "code",
      "source": [
        "nltk.download('stopwords')\n",
        "nltk.download('punkt')"
      ],
      "metadata": {
        "colab": {
          "base_uri": "https://localhost:8080/"
        },
        "id": "tHoZ9QkZqMlY",
        "outputId": "7bab0ef4-2ee9-49af-d473-1ffe845c906d"
      },
      "execution_count": 25,
      "outputs": [
        {
          "output_type": "stream",
          "name": "stderr",
          "text": [
            "[nltk_data] Downloading package stopwords to /root/nltk_data...\n",
            "[nltk_data]   Package stopwords is already up-to-date!\n",
            "[nltk_data] Downloading package punkt to /root/nltk_data...\n",
            "[nltk_data]   Package punkt is already up-to-date!\n"
          ]
        },
        {
          "output_type": "execute_result",
          "data": {
            "text/plain": [
              "True"
            ]
          },
          "metadata": {},
          "execution_count": 25
        }
      ]
    },
    {
      "cell_type": "code",
      "source": [
        "import bs4 as bs\n",
        "import re\n",
        "import urllib.request\n",
        "import nltk\n",
        "\n",
        "scrapped_data = urllib.request.urlopen('https://en.wikipedia.org/wiki/Breaking_Bad')\n",
        "article = scrapped_data.read()\n",
        "\n",
        "parsed_article = bs.BeautifulSoup(article,'lxml')\n",
        "\n",
        "paragraphs = parsed_article.find_all('p')\n",
        "\n",
        "article_text = \"\"\n",
        "\n",
        "for p in paragraphs:\n",
        "    article_text += p.text"
      ],
      "metadata": {
        "id": "7HCGvMNEDMc7"
      },
      "execution_count": 26,
      "outputs": []
    },
    {
      "cell_type": "code",
      "source": [
        "scrapped_data_1 = urllib.request.urlopen('https://breakingbad.fandom.com/wiki/Walter_White')\n",
        "article_1 = scrapped_data_1.read()\n",
        "\n",
        "parsed_article_1 = bs.BeautifulSoup(article_1,'lxml')\n",
        "\n",
        "paragraphs_1 = parsed_article_1.find_all('p')\n",
        "\n",
        "article_text_1 = \"\"\n",
        "\n",
        "for p in paragraphs_1:\n",
        "    article_text_1 += p.text"
      ],
      "metadata": {
        "id": "88HgBOjgLapV"
      },
      "execution_count": 27,
      "outputs": []
    },
    {
      "cell_type": "code",
      "source": [
        "processed_article_1 = article_text_1.lower()\n",
        "processed_article_1 = re.sub('[^a-zA-Z]', ' ', processed_article_1 )\n",
        "processed_article_1 = re.sub(r'\\s+', ' ', processed_article_1)\n",
        "\n",
        "all_sentences_1 = nltk.sent_tokenize(processed_article_1)\n",
        "\n",
        "all_words_1 = [nltk.word_tokenize(sent) for sent in all_sentences_1]\n",
        "\n",
        "\n",
        "from nltk.corpus import stopwords\n",
        "for i in range(1):\n",
        "    all_words_1[i] = [w for w in all_words_1[i] if w not in stopwords.words('english')]"
      ],
      "metadata": {
        "id": "1xpTczzcLqKx"
      },
      "execution_count": 28,
      "outputs": []
    },
    {
      "cell_type": "code",
      "source": [
        "processed_article = article_text.lower()\n",
        "processed_article = re.sub('[^a-zA-Z]', ' ', processed_article )\n",
        "processed_article = re.sub(r'\\s+', ' ', processed_article)\n",
        "\n",
        "all_sentences = nltk.sent_tokenize(processed_article)\n",
        "\n",
        "all_words = [nltk.word_tokenize(sent) for sent in all_sentences]\n",
        "\n",
        "\n",
        "from nltk.corpus import stopwords\n",
        "for i in range(1):\n",
        "    all_words[i] = [w for w in all_words[i] if w not in stopwords.words('english')]"
      ],
      "metadata": {
        "id": "8HappQXSDRAF"
      },
      "execution_count": 29,
      "outputs": []
    },
    {
      "cell_type": "code",
      "source": [
        "text = []"
      ],
      "metadata": {
        "id": "j75-CKiGA54-"
      },
      "execution_count": 30,
      "outputs": []
    },
    {
      "cell_type": "code",
      "source": [
        "size = 0\n",
        "vocab = []\n",
        "for word in all_words[0]:\n",
        "    text.append(word)\n",
        "    t = 0\n",
        "    for v in range(len(vocab)):\n",
        "        if vocab[v] == word:\n",
        "            t = 1\n",
        "            break\n",
        "    if t == 0:\n",
        "        vocab.append(word)\n",
        "        size += 1\n",
        "\n",
        "# for word in all_words_1[0]:\n",
        "#     text.append(word)\n",
        "#     t = 0\n",
        "#     for v in range(len(vocab)):\n",
        "#         if vocab[v] == word:\n",
        "#             t = 1\n",
        "#             break\n",
        "#     if t == 0:\n",
        "#         vocab.append(word)\n",
        "#         size += 1"
      ],
      "metadata": {
        "id": "WI55qWCkrg2p"
      },
      "execution_count": 31,
      "outputs": []
    },
    {
      "cell_type": "code",
      "source": [
        "len(text)"
      ],
      "metadata": {
        "colab": {
          "base_uri": "https://localhost:8080/"
        },
        "id": "9Uur2ej1LXQO",
        "outputId": "48b654b8-e7aa-4cad-9d35-1ec6fd7dfd8f"
      },
      "execution_count": 32,
      "outputs": [
        {
          "output_type": "execute_result",
          "data": {
            "text/plain": [
              "5422"
            ]
          },
          "metadata": {},
          "execution_count": 32
        }
      ]
    },
    {
      "cell_type": "code",
      "source": [
        "len(vocab)"
      ],
      "metadata": {
        "colab": {
          "base_uri": "https://localhost:8080/"
        },
        "id": "EJgzhTBpBCud",
        "outputId": "0c2ccb9a-6b26-4662-b5e2-643909688a60"
      },
      "execution_count": 33,
      "outputs": [
        {
          "output_type": "execute_result",
          "data": {
            "text/plain": [
              "2259"
            ]
          },
          "metadata": {},
          "execution_count": 33
        }
      ]
    },
    {
      "cell_type": "code",
      "source": [
        "v = np.random.uniform(-0.6, 0.6, (len(vocab), 300))\n",
        "u = np.random.uniform(-0.6, 0.6, (len(vocab), 300))"
      ],
      "metadata": {
        "id": "BxAdKp-JDvij"
      },
      "execution_count": 34,
      "outputs": []
    },
    {
      "cell_type": "code",
      "source": [
        "u"
      ],
      "metadata": {
        "colab": {
          "base_uri": "https://localhost:8080/"
        },
        "id": "EUhLVK65bGf0",
        "outputId": "f6fb69e5-20fd-478d-8da5-e906be9ecc16"
      },
      "execution_count": 35,
      "outputs": [
        {
          "output_type": "execute_result",
          "data": {
            "text/plain": [
              "array([[-0.23630033, -0.15675792,  0.36635699, ...,  0.59900045,\n",
              "         0.1501736 , -0.59808156],\n",
              "       [-0.15508554,  0.2253513 ,  0.39244353, ...,  0.55289107,\n",
              "         0.4806543 , -0.50649284],\n",
              "       [-0.28617611, -0.23699402, -0.52596523, ...,  0.38208602,\n",
              "         0.16585043, -0.49222717],\n",
              "       ...,\n",
              "       [-0.0829587 , -0.26076001, -0.43760858, ...,  0.07631013,\n",
              "         0.08449221, -0.23748645],\n",
              "       [ 0.28945517,  0.35524737, -0.4826425 , ..., -0.19795327,\n",
              "         0.3706586 , -0.31782826],\n",
              "       [ 0.05967098, -0.09158976, -0.26759794, ...,  0.10361357,\n",
              "         0.18976884, -0.58755252]])"
            ]
          },
          "metadata": {},
          "execution_count": 35
        }
      ]
    },
    {
      "cell_type": "code",
      "source": [
        "iterations = 50\n",
        "learning_rate = 0.07\n",
        "beta = 0.01"
      ],
      "metadata": {
        "id": "i5aTrRm2FZW8"
      },
      "execution_count": 36,
      "outputs": []
    },
    {
      "cell_type": "code",
      "source": [
        "def grad(central_vec, index_context, context):\n",
        "    exponents = []\n",
        "    sum_exp_dot_cont = 0\n",
        "\n",
        "    for word_vec in context:\n",
        "        temp = np.exp(np.dot(word_vec.transpose(), central_vec))\n",
        "        exponents.append(temp)\n",
        "        sum_exp_dot_cont += temp * word_vec\n",
        "\n",
        "    sum_exp = np.sum(exponents)\n",
        "    grad_central_vec = (1 / sum_exp) * sum_exp_dot_cont - context[index_context]\n",
        "    # print(grad_central_vec.shape)\n",
        "\n",
        "    grad_cont_vec = []\n",
        "\n",
        "    for i in range(5):\n",
        "        grad_cont_vec.append((1 / sum_exp) * np.exp(np.dot(context[i], central_vec)) * central_vec)\n",
        "    \n",
        "    grad_cont_vec[index_context] += -central_vec\n",
        "    grad_cont_vec = np.array(grad_cont_vec)\n",
        "    # print(grad_cont_vec)\n",
        "\n",
        "    return grad_central_vec, grad_cont_vec"
      ],
      "metadata": {
        "id": "iQuI0gtWKE3T"
      },
      "execution_count": 37,
      "outputs": []
    },
    {
      "cell_type": "code",
      "source": [
        "for iteration in range(iterations):\n",
        "    print(iteration)\n",
        "    # print(v)\n",
        "    for i in range(3, len(text) - 3): # выбираем слово из текста\n",
        "                \n",
        "        for k in range(len(vocab)): # ищем в словаре позицию central слово\n",
        "            if text[i] == vocab[k]:\n",
        "                pos_central = k\n",
        "                break\n",
        "\n",
        "\n",
        "        for j in range(1, 3): # context на два слова вперёд\n",
        "            # print(text[i + j])\n",
        "            for k in range(len(vocab)): # ищем в словаре позицию context слово\n",
        "                if text[i + j] == vocab[k]:\n",
        "                    pos_context = k\n",
        "                    break\n",
        "            \n",
        "            rand = np.random.randint(len(vocab), size=5)\n",
        "            rand[4] = pos_context\n",
        "\n",
        "            u_temp = []\n",
        "            for k in range(len(rand)):\n",
        "                u_temp.append(u[rand[k]])\n",
        "                #print(vocab[rand[k]])\n",
        "\n",
        "            #print('---')\n",
        "            grad_center_vec, grad_outside_vecs = grad(v[pos_central], 4, u_temp)\n",
        "\n",
        "            v[pos_central] -= learning_rate * grad_center_vec + 2 * beta * v[pos_central] # grad + reg\n",
        "\n",
        "            for k in range(len(rand)):\n",
        "                u[rand[k]] -= learning_rate * grad_outside_vecs[k] + 2 * beta * u[rand[k]]\n",
        "                \n",
        "        \n",
        "        for j in range(1, 3): # context на два слова вперёд\n",
        "            for k in range(len(vocab)): # ищем в словаре позицию context слово\n",
        "                if text[i - j] == vocab[k]:\n",
        "                    pos_context = k\n",
        "                    break\n",
        "                    \n",
        "            rand = np.random.randint(len(vocab), size=5)\n",
        "            rand[4] = pos_context\n",
        "            flag = 0\n",
        "            \n",
        "            u_temp = []\n",
        "            for k in range(len(rand)):\n",
        "                u_temp.append(u[rand[k]])\n",
        "                #print(vocab[rand[k]])\n",
        "\n",
        "            #print('---')\n",
        "\n",
        "            grad_center_vec, grad_outside_vecs = grad(v[pos_central], 4, u_temp)\n",
        "\n",
        "            v[pos_central] -= learning_rate * grad_center_vec + 2 * beta * v[pos_central] # grad + reg\n",
        "\n",
        "            for k in range(len(rand)):\n",
        "                u[rand[k]] -= learning_rate * grad_outside_vecs[k] + 2 * beta * u[rand[k]]\n",
        "                # print(u[rand[k]], vocab[k])\n",
        "            "
      ],
      "metadata": {
        "colab": {
          "base_uri": "https://localhost:8080/"
        },
        "id": "nhK3-ZPt-QU_",
        "outputId": "2fcd1ac9-88dd-4aa7-bb7e-e76191bcf8e5"
      },
      "execution_count": 38,
      "outputs": [
        {
          "output_type": "stream",
          "name": "stdout",
          "text": [
            "0\n",
            "1\n",
            "2\n",
            "3\n",
            "4\n",
            "5\n",
            "6\n",
            "7\n",
            "8\n",
            "9\n",
            "10\n",
            "11\n",
            "12\n",
            "13\n",
            "14\n",
            "15\n",
            "16\n",
            "17\n",
            "18\n",
            "19\n",
            "20\n",
            "21\n",
            "22\n",
            "23\n",
            "24\n",
            "25\n",
            "26\n",
            "27\n",
            "28\n",
            "29\n",
            "30\n",
            "31\n",
            "32\n",
            "33\n",
            "34\n",
            "35\n",
            "36\n",
            "37\n",
            "38\n",
            "39\n",
            "40\n",
            "41\n",
            "42\n",
            "43\n",
            "44\n",
            "45\n",
            "46\n",
            "47\n",
            "48\n",
            "49\n"
          ]
        }
      ]
    },
    {
      "cell_type": "code",
      "source": [
        "from scipy.spatial import distance\n",
        "most_similar = []\n",
        "central = 40\n",
        "ms = []\n",
        "\n",
        "\n",
        "most_similar_1 = []\n",
        "central_1 = 17\n",
        "ms_1 = []\n",
        "\n",
        "x_2 = []\n",
        "y_2 = []\n",
        "\n",
        "x_walt = []\n",
        "y_walt = []\n",
        "\n",
        "for j in range(len(vocab)):\n",
        "    if j != central:\n",
        "        dist = distance.euclidean(v[central], v[j])\n",
        "        most_similar.append([dist, j, np.sum(v[j][0:49]), np.sum(v[j][50:100])])\n",
        "    if j == central:\n",
        "        x_2.append(np.sum(v[j][0:49]))\n",
        "        y_2.append(np.sum(v[j][50:100]))\n",
        "\n",
        "    if j != central_1:\n",
        "        dist = distance.euclidean(v[central_1], v[j])\n",
        "        most_similar_1.append([dist, j, np.sum(v[j][0:49]), np.sum(v[j][50:100])])\n",
        "\n",
        "    if j == central_1:\n",
        "        x_walt.append(np.sum(v[j][0:49]))\n",
        "        y_walt.append(np.sum(v[j][50:100]))\n",
        "\n",
        "# most_similar = np.sort(most_similar)\n",
        "# print('pos -', pos, ' ', 'dist -', most_similar[0], ' ', 'cont -', vocab[cent],' ', 'word -', vocab[pos])"
      ],
      "metadata": {
        "id": "C-Km1Dgy10Aj"
      },
      "execution_count": 47,
      "outputs": []
    },
    {
      "cell_type": "code",
      "source": [
        "from operator import itemgetter\n",
        "\n",
        "most_similar = sorted(most_similar, key=itemgetter(0))\n",
        "most_similar_1 = sorted(most_similar_1, key=itemgetter(0))"
      ],
      "metadata": {
        "id": "QidgXy-pU-3T"
      },
      "execution_count": 48,
      "outputs": []
    },
    {
      "cell_type": "code",
      "source": [
        "for i in range(30):\n",
        "    print(vocab[most_similar_1[i][1]])"
      ],
      "metadata": {
        "colab": {
          "base_uri": "https://localhost:8080/"
        },
        "id": "1O37--ckp6T7",
        "outputId": "a032902e-4fc8-4def-c654-f05a6200073a"
      },
      "execution_count": 49,
      "outputs": [
        {
          "output_type": "stream",
          "name": "stdout",
          "text": [
            "cancer\n",
            "would\n",
            "says\n",
            "use\n",
            "white\n",
            "physically\n",
            "man\n",
            "interview\n",
            "feels\n",
            "rest\n",
            "successful\n",
            "instead\n",
            "brought\n",
            "matter\n",
            "lung\n",
            "state\n",
            "new\n",
            "meeting\n",
            "shift\n",
            "live\n",
            "odenkirk\n",
            "whether\n",
            "eventually\n",
            "much\n",
            "telling\n",
            "past\n",
            "sentence\n",
            "became\n",
            "chooses\n",
            "walt\n"
          ]
        }
      ]
    },
    {
      "cell_type": "code",
      "source": [
        "for i in range(30):\n",
        "    print(vocab[most_similar[i][1]])"
      ],
      "metadata": {
        "colab": {
          "base_uri": "https://localhost:8080/"
        },
        "id": "MYWKtQZhX87Z",
        "outputId": "bfffa24e-7cb6-47c5-8003-33adbd3ac3c1"
      },
      "execution_count": 50,
      "outputs": [
        {
          "output_type": "stream",
          "name": "stdout",
          "text": [
            "becomes\n",
            "skyler\n",
            "capture\n",
            "gives\n",
            "turns\n",
            "cooking\n",
            "meth\n",
            "hank\n",
            "seems\n",
            "gus\n",
            "provide\n",
            "job\n",
            "leave\n",
            "lydia\n",
            "drug\n",
            "mike\n",
            "hector\n",
            "take\n",
            "become\n",
            "protect\n",
            "criminal\n",
            "father\n",
            "keep\n",
            "odds\n",
            "earnings\n",
            "family\n",
            "money\n",
            "killing\n",
            "launder\n",
            "dean\n"
          ]
        }
      ]
    },
    {
      "cell_type": "code",
      "source": [
        "x = []\n",
        "y = []\n",
        "for i in range(2000):\n",
        "    x.append(most_similar[i][2])\n",
        "    y.append(most_similar[i][3])\n",
        "\n",
        "\n",
        "x_1 = []\n",
        "y_1 = []\n",
        "for i in range(2000):\n",
        "    x_1.append(most_similar_1[i][2])\n",
        "    y_1.append(most_similar_1[i][3])"
      ],
      "metadata": {
        "id": "-p8Nk_7LkpXc"
      },
      "execution_count": 51,
      "outputs": []
    },
    {
      "cell_type": "code",
      "source": [
        "import matplotlib.pyplot as plt\n",
        "import matplotlib.patheffects as pe\n",
        "import seaborn as sns\n",
        "plt.style.use('default')\n",
        "sns.set(rc={'figure.figsize':(8, 6)})\n",
        "sns.set_style('white')\n",
        "sns.despine()"
      ],
      "metadata": {
        "colab": {
          "base_uri": "https://localhost:8080/",
          "height": 34
        },
        "id": "Tpvb9K3cb9sy",
        "outputId": "4d696d79-3b27-462c-db1c-3f04e5dadc56"
      },
      "execution_count": 52,
      "outputs": [
        {
          "output_type": "display_data",
          "data": {
            "text/plain": [
              "<Figure size 800x600 with 0 Axes>"
            ]
          },
          "metadata": {}
        }
      ]
    },
    {
      "cell_type": "code",
      "source": [
        "for i in range(len(most_similar)):\n",
        "    if i == 10:\n",
        "        break\n",
        "    plt.annotate(vocab[most_similar[i][1]], (x[i], y[i]))\n",
        "    plt.scatter(x[i], y[i], color='red')\n",
        "\n",
        "for i in range(len(most_similar_1)):\n",
        "    if i == 10:\n",
        "        break\n",
        "    plt.annotate(vocab[most_similar_1[i][1]], (x_1[i], y_1[i]))\n",
        "    plt.scatter(x_1[i], y_1[i], color='blue')\n",
        "\n",
        "plt.scatter(x_walt, y_walt, color='blue', marker=\"x\")\n",
        "\n",
        "plt.scatter(x_2, y_2, color='red', marker=\"x\")\n",
        "\n",
        "plt.show()"
      ],
      "metadata": {
        "colab": {
          "base_uri": "https://localhost:8080/",
          "height": 481
        },
        "id": "Y5pERnPubdVF",
        "outputId": "139f4a53-b106-420a-848b-958a7b1a685d"
      },
      "execution_count": 53,
      "outputs": [
        {
          "output_type": "display_data",
          "data": {
            "text/plain": [
              "<Figure size 800x600 with 1 Axes>"
            ],
            "image/png": "[encoded data removed]"
          },
          "metadata": {}
        }
      ]
    },
    {
      "cell_type": "code",
      "source": [
        "for i in range(len(vocab)):\n",
        "    if vocab[i] == 'gus':\n",
        "        print(i)\n",
        "        break"
      ],
      "metadata": {
        "colab": {
          "base_uri": "https://localhost:8080/"
        },
        "id": "GEO379AWYuoQ",
        "outputId": "6a6ec96f-e31f-4920-c8cd-5586fc719ed5"
      },
      "execution_count": 46,
      "outputs": [
        {
          "output_type": "stream",
          "name": "stdout",
          "text": [
            "107\n"
          ]
        }
      ]
    }
  ]
}