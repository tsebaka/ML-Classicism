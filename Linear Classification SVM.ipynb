{
  "nbformat": 4,
  "nbformat_minor": 0,
  "metadata": {
    "colab": {
      "name": "Lin class new.ipynb",
      "provenance": [],
      "collapsed_sections": []
    },
    "kernelspec": {
      "name": "python3",
      "display_name": "Python 3"
    },
    "language_info": {
      "name": "python"
    }
  },
  "cells": [
    {
      "cell_type": "markdown",
      "source": [
        "# **Библиотеки**"
      ],
      "metadata": {
        "id": "vDmZndLdydPh"
      }
    },
    {
      "cell_type": "code",
      "execution_count": 54,
      "metadata": {
        "id": "WYM7jTH0ZNG-"
      },
      "outputs": [],
      "source": [
        "import math\n",
        "import numpy as np\n",
        "import pandas as pd\n",
        "import sklearn\n",
        "import seaborn as sns\n",
        "import matplotlib.pyplot as plt"
      ]
    },
    {
      "cell_type": "code",
      "source": [
        "def line():\n",
        "    x = np.random.uniform(0, 5)\n",
        "    y = 2 * x + 5\n",
        "    return x, y\n",
        "\n",
        "def circle():\n",
        "    while True:\n",
        "        x = np.random.uniform(4, 6)\n",
        "        y = np.random.uniform(1, 3)\n",
        "        if (x - 5) ** 2 + (y - 2) ** 2 > 1:\n",
        "            continue\n",
        "        return x, y\n",
        "\n",
        "def line_2():\n",
        "    x = np.random.uniform(0, 5)\n",
        "    y = 2 * x - 5\n",
        "    return x, y\n",
        "\n",
        "def showData(X_1, Y_1, X_2, Y_2, X_3, Y_3):\n",
        "    plt.scatter(X_1, Y_1, color = 'r');\n",
        "    plt.scatter(X_2, Y_2, color = 'g');\n",
        "    plt.scatter(X_3, Y_3, color = 'b');\n",
        "    plt.title('Data');\n",
        "    plt.show()\n"
      ],
      "metadata": {
        "id": "_7355O_KZm8p"
      },
      "execution_count": 55,
      "outputs": []
    },
    {
      "cell_type": "code",
      "source": [
        "X_1 = []\n",
        "Y_1 = []\n",
        "X_2 = []\n",
        "Y_2 = []\n",
        "\n",
        "features = []\n",
        "targets = []\n",
        "for i in range(50):\n",
        "    x, y = line()\n",
        "    \n",
        "    features.append([1, x, -y])\n",
        "    targets.append(1)\n",
        "    X_1.append(x)\n",
        "    Y_1.append(y)\n",
        "\n",
        "    x, y = circle()\n",
        "    \n",
        "    features.append([1, x, -y])\n",
        "    targets.append(-1)\n",
        "    X_2.append(x)\n",
        "    Y_2.append(y)"
      ],
      "metadata": {
        "id": "e507fwFE1rEa"
      },
      "execution_count": 56,
      "outputs": []
    },
    {
      "cell_type": "code",
      "source": [
        "showData(X_1, Y_1, X_2, Y_2, None, None)"
      ],
      "metadata": {
        "colab": {
          "base_uri": "https://localhost:8080/",
          "height": 281
        },
        "id": "6RWwxwjfcocH",
        "outputId": "49e446c3-b975-4db5-8e79-c8a11a083430"
      },
      "execution_count": 57,
      "outputs": [
        {
          "output_type": "display_data",
          "data": {
            "text/plain": [
              "<Figure size 432x288 with 1 Axes>"
            ],
            "image/png": "[encoded data removed]"
          },
          "metadata": {
            "needs_background": "light"
          }
        }
      ]
    },
    {
      "cell_type": "code",
      "source": [
        "def computeGradient (target, X):\n",
        "    grad = target * X\n",
        "    return grad\n",
        "\n",
        "def computeRegularization (beta, w):\n",
        "    return 2 * beta * w\n",
        "\n",
        "def setWeights (w, grad, reg):\n",
        "    return w - grad - reg\n"
      ],
      "metadata": {
        "id": "Fy6yu3-l3W5y"
      },
      "execution_count": 58,
      "outputs": []
    },
    {
      "cell_type": "code",
      "source": [
        "w = np.array([[0], [0], [0]])\n",
        "grad = np.array([[0], [0], [0]], dtype = float)\n",
        "alpha = 0.0005\n",
        "beta = 0.5\n",
        "\n",
        "for i in range (55):\n",
        "    for j in range (50):\n",
        "        X = np.array([features[j]])\n",
        "        if 1 - targets[j] * np.dot(w.transpose(), X.transpose()) > 0:\n",
        "            grad -= computeGradient(targets[j], X.transpose())\n",
        "    reg = computeRegularization(beta, w)\n",
        "    w = setWeights(w, alpha * grad, reg)\n",
        "\n",
        "w"
      ],
      "metadata": {
        "colab": {
          "base_uri": "https://localhost:8080/"
        },
        "id": "g8OjP8tydGy5",
        "outputId": "fee84e65-8c06-4d18-b6bf-a056993396c4"
      },
      "execution_count": 59,
      "outputs": [
        {
          "output_type": "execute_result",
          "data": {
            "text/plain": [
              "array([[-0.0355    ],\n",
              "       [-0.35543099],\n",
              "       [-0.20818726]])"
            ]
          },
          "metadata": {},
          "execution_count": 59
        }
      ]
    },
    {
      "cell_type": "code",
      "source": [
        "X_3 = []\n",
        "Y_3 = []\n",
        "\n",
        "for i in range (50):\n",
        "    x = np.random.uniform(0, 6)\n",
        "    X_3.append(x)\n",
        "    Y_3.append( (w[1][0] * x  + w[0][0]) / w[2][0] )\n",
        "\n",
        "\n",
        "showData(X_1, Y_1, X_2, Y_2, X_3, Y_3)"
      ],
      "metadata": {
        "colab": {
          "base_uri": "https://localhost:8080/",
          "height": 281
        },
        "id": "H0xqK_Y7fayV",
        "outputId": "42fdf88c-8447-471d-bb7d-60a62f71ec5a"
      },
      "execution_count": 60,
      "outputs": [
        {
          "output_type": "display_data",
          "data": {
            "text/plain": [
              "<Figure size 432x288 with 1 Axes>"
            ],
            "image/png": "[encoded data removed]"
          },
          "metadata": {
            "needs_background": "light"
          }
        }
      ]
    },
    {
      "cell_type": "markdown",
      "source": [
        "# **Две линии**"
      ],
      "metadata": {
        "id": "yjbhMZGRllY5"
      }
    },
    {
      "cell_type": "code",
      "source": [
        "X_1 = []\n",
        "Y_1 = []\n",
        "X_2 = []\n",
        "Y_2 = []\n",
        "\n",
        "features = []\n",
        "targets = []\n",
        "for i in range(50):\n",
        "    x, y = line()\n",
        "    \n",
        "    features.append([1, x, -y])\n",
        "    targets.append(1)\n",
        "    X_1.append(x)\n",
        "    Y_1.append(y)\n",
        "\n",
        "    x, y = line_2()\n",
        "    \n",
        "    features.append([1, x, -y])\n",
        "    targets.append(-1)\n",
        "    X_2.append(x)\n",
        "    Y_2.append(y)"
      ],
      "metadata": {
        "id": "DwAuyrJAltzS"
      },
      "execution_count": 61,
      "outputs": []
    },
    {
      "cell_type": "code",
      "source": [
        "w = np.array([[0], [0], [0]])\n",
        "grad = np.array([[0], [0], [0]], dtype = float)\n",
        "alpha = 0.0005\n",
        "beta = 0.5\n",
        "\n",
        "for i in range (55):\n",
        "    for j in range (50):\n",
        "        X = np.array([features[j]])\n",
        "        if 1 - targets[j] * np.dot(w.transpose(), X.transpose()) > 0:\n",
        "            grad -= computeGradient(targets[j], X.transpose())\n",
        "    reg = computeRegularization(beta, w)\n",
        "    w = setWeights(w, alpha * grad, reg)\n",
        "\n",
        "w"
      ],
      "metadata": {
        "colab": {
          "base_uri": "https://localhost:8080/"
        },
        "id": "-ExVuBsC3QFj",
        "outputId": "d9615db1-975e-4bb7-ebe9-2b55eeecf635"
      },
      "execution_count": 62,
      "outputs": [
        {
          "output_type": "execute_result",
          "data": {
            "text/plain": [
              "array([[-0.1325    ],\n",
              "       [-0.4151838 ],\n",
              "       [-0.23713241]])"
            ]
          },
          "metadata": {},
          "execution_count": 62
        }
      ]
    },
    {
      "cell_type": "code",
      "source": [
        "X_3 = []\n",
        "Y_3 = []\n",
        "\n",
        "for i in range (50):\n",
        "    x = np.random.uniform(0, 6)\n",
        "    X_3.append(x)\n",
        "    Y_3.append( (w[1][0] * x  + w[0][0]) / w[2][0] )\n",
        "\n",
        "\n",
        "showData(X_1, Y_1, X_2, Y_2, X_3, Y_3)"
      ],
      "metadata": {
        "colab": {
          "base_uri": "https://localhost:8080/",
          "height": 281
        },
        "id": "Hh04jjd0lwwz",
        "outputId": "c67ebf5a-8964-43e0-85ab-68be4b791c84"
      },
      "execution_count": 63,
      "outputs": [
        {
          "output_type": "display_data",
          "data": {
            "text/plain": [
              "<Figure size 432x288 with 1 Axes>"
            ],
            "image/png": "[encoded data removed]"
          },
          "metadata": {
            "needs_background": "light"
          }
        }
      ]
    }
  ]
}