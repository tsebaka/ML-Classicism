{
  "nbformat": 4,
  "nbformat_minor": 0,
  "metadata": {
    "colab": {
      "provenance": [],
      "gpuType": "T4"
    },
    "kernelspec": {
      "name": "python3",
      "display_name": "Python 3"
    },
    "language_info": {
      "name": "python"
    },
    "accelerator": "GPU",
    "gpuClass": "standard"
  },
  "cells": [
    {
      "cell_type": "code",
      "source": [
        "import pandas as pd\n",
        "import numpy as np\n",
        "from sklearn.model_selection import train_test_split\n",
        "import torch\n",
        "from torch import nn\n",
        "from torch.optim import Adam\n",
        "from torch.utils.data import Dataset, DataLoader\n",
        "\n",
        "ratings = pd.read_csv('ratings.csv')\n",
        "movies = pd.read_csv('movies.csv')\n",
        "\n",
        "user_ids = ratings[\"userId\"].unique().tolist()\n",
        "user2user_encoded = {x: i for i, x in enumerate(user_ids)}\n",
        "userencoded2user = {i: x for i, x in enumerate(user_ids)}\n",
        "\n",
        "movie_ids = ratings[\"movieId\"].unique().tolist()\n",
        "movie2movie_encoded = {x: i for i, x in enumerate(movie_ids)}\n",
        "movie_encoded2movie = {i: x for i, x in enumerate(movie_ids)}\n",
        "\n",
        "ratings[\"user\"] = ratings[\"userId\"].map(user2user_encoded)\n",
        "ratings[\"movie\"] = ratings[\"movieId\"].map(movie2movie_encoded)\n",
        "\n",
        "num_users = len(user2user_encoded)\n",
        "num_movies = len(movie_encoded2movie)\n",
        "ratings[\"rating\"] = ratings[\"rating\"].values.astype(np.float32)\n",
        "\n",
        "X = ratings[[\"user\", \"movie\"]].values\n",
        "y = ratings[\"rating\"].values\n",
        "\n",
        "X_train, X_val, y_train, y_val = train_test_split(X, y, test_size=0.2, random_state=42)\n",
        "\n",
        "class MovieDataset(Dataset):\n",
        "    def __init__(self, users, movies, ratings):\n",
        "        self.users = users\n",
        "        self.movies = movies\n",
        "        self.ratings = ratings\n",
        "\n",
        "    def __len__(self):\n",
        "        return len(self.users)\n",
        "\n",
        "    def __getitem__(self, idx):\n",
        "        return self.users[idx], self.movies[idx], self.ratings[idx]\n",
        "\n",
        "train_dataset = MovieDataset(X_train[:,0], X_train[:,1], y_train)\n",
        "val_dataset = MovieDataset(X_val[:,0], X_val[:,1], y_val)\n",
        "\n",
        "train_loader = DataLoader(train_dataset, batch_size=64, shuffle=True)\n",
        "val_loader = DataLoader(val_dataset, batch_size=64, shuffle=False)\n",
        "\n",
        "class RecommenderNet(nn.Module):\n",
        "    def __init__(self, num_users, num_movies, embedding_size):\n",
        "        super().__init__()\n",
        "        self.user_embedding = nn.Embedding(num_embeddings=num_users, embedding_dim=embedding_size)\n",
        "        self.movie_embedding = nn.Embedding(num_embeddings=num_movies, embedding_dim=embedding_size)\n",
        "        self.fc1 = nn.Linear(in_features=embedding_size*2, out_features=128)\n",
        "        self.fc2 = nn.Linear(in_features=128, out_features=64)\n",
        "        self.fc3 = nn.Linear(in_features=64, out_features=32)\n",
        "        self.dropout = nn.Dropout(0.2)\n",
        "        self.fc4 = nn.Linear(in_features=32, out_features=1)\n",
        "        # типикал архитектура, в принципе можно ещё добавить сверточных слоёв но в принципе и так работает неплохо\n",
        "\n",
        "    def forward(self, user, movie):\n",
        "        user_embedded = self.user_embedding(user)\n",
        "        movie_embedded = self.movie_embedding(movie)\n",
        "        vector = torch.cat([user_embedded, movie_embedded], dim=-1)\n",
        "        vector = nn.ReLU()(self.fc1(vector))\n",
        "        vector = nn.ReLU()(self.fc2(vector))\n",
        "        vector = self.dropout(vector)\n",
        "        vector = nn.ReLU()(self.fc3(vector))\n",
        "        pred = nn.Sigmoid()(self.fc4(vector))\n",
        "        return pred * 5.0\n",
        "\n",
        "device = torch.device('cuda:0' if torch.cuda.is_available() else 'cpu')\n",
        "model = RecommenderNet(num_users, num_movies, 50).to(device)\n",
        "criterion = nn.L1Loss()\n",
        "# не особо интересны выбросы, будем меньше на них обращать внимания и поставим mae, а не mse\n",
        "optimizer = Adam(model.parameters(), lr=0.001)\n",
        "\n",
        "def train(model, criterion, optimizer, train_loader, val_loader, epochs):\n",
        "    for epoch in range(epochs):\n",
        "        model.train()\n",
        "        train_losses = []\n",
        "        for user, movie, rating in train_loader:\n",
        "            user = user.to(device)\n",
        "            movie = movie.to(device)\n",
        "            rating = rating.to(device)\n",
        "            \n",
        "            optimizer.zero_grad()\n",
        "\n",
        "            predictions = model(user, movie)\n",
        "            loss = criterion(predictions, rating.unsqueeze(1))\n",
        "\n",
        "            loss.backward()\n",
        "            optimizer.step()\n",
        "            \n",
        "            train_losses.append(loss.item())\n",
        "            \n",
        "        model.eval()\n",
        "        val_losses = []\n",
        "        with torch.no_grad():\n",
        "            for user, movie, rating in val_loader:\n",
        "                user = user.to(device)\n",
        "                movie = movie.to(device)\n",
        "                rating = rating.to(device)\n",
        "                predictions = model(user, movie)\n",
        "                loss = criterion(predictions, rating.unsqueeze(1))\n",
        "                val_losses.append(loss.item())\n",
        "                \n",
        "        print(f'Epoch {epoch+1}, Train Loss: {np.mean(train_losses):.4f}, Val Loss: {np.mean(val_losses):.4f}')\n",
        "\n",
        "train(model, criterion, optimizer, train_loader, val_loader, epochs=5)"
      ],
      "metadata": {
        "colab": {
          "base_uri": "https://localhost:8080/"
        },
        "id": "ioffAdBW-yWJ",
        "outputId": "fb7d7e24-9264-4303-a04c-21bef3c93625"
      },
      "execution_count": 13,
      "outputs": [
        {
          "output_type": "stream",
          "name": "stdout",
          "text": [
            "Epoch 1, Train Loss: 0.7554, Val Loss: 0.7237\n",
            "Epoch 2, Train Loss: 0.6978, Val Loss: 0.7053\n",
            "Epoch 3, Train Loss: 0.6644, Val Loss: 0.6924\n",
            "Epoch 4, Train Loss: 0.6410, Val Loss: 0.6917\n",
            "Epoch 5, Train Loss: 0.6198, Val Loss: 0.6840\n",
            "Epoch 6, Train Loss: 0.6032, Val Loss: 0.6855\n",
            "Epoch 7, Train Loss: 0.5883, Val Loss: 0.6869\n",
            "Epoch 8, Train Loss: 0.5738, Val Loss: 0.6910\n",
            "Epoch 9, Train Loss: 0.5609, Val Loss: 0.6908\n",
            "Epoch 10, Train Loss: 0.5487, Val Loss: 0.6940\n"
          ]
        }
      ]
    },
    {
      "cell_type": "code",
      "source": [
        "user_embeddings = model.user_embedding.weight.detach().cpu().numpy()\n",
        "movie_embeddings = model.movie_embedding.weight.detach().cpu().numpy()"
      ],
      "metadata": {
        "id": "Uk8PgrICIBUp"
      },
      "execution_count": 10,
      "outputs": []
    },
    {
      "cell_type": "code",
      "source": [
        "#можно сделать так, можно взять прокинуть через сетку обхект и получить \n",
        "# на выходе тоже эмбеддинг фльма/пользователя (bert style)"
      ],
      "metadata": {
        "id": "0-jXFjewL1WX"
      },
      "execution_count": null,
      "outputs": []
    }
  ]
}