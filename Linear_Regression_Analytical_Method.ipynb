{
  "nbformat": 4,
  "nbformat_minor": 0,
  "metadata": {
    "colab": {
      "name": "Linear Regression Analytical Method.ipynb",
      "provenance": []
    },
    "kernelspec": {
      "name": "python3",
      "display_name": "Python 3"
    },
    "language_info": {
      "name": "python"
    }
  },
  "cells": [
    {
      "cell_type": "code",
      "source": [
        "import math\n",
        "import numpy as np\n",
        "import pandas as pd\n",
        "import sklearn\n",
        "import matplotlib.pyplot as plt\n",
        "import seaborn as sns\n",
        "\n",
        "import warnings\n",
        "warnings.filterwarnings('ignore')"
      ],
      "metadata": {
        "id": "L4DDZS43i13L"
      },
      "execution_count": 122,
      "outputs": []
    },
    {
      "cell_type": "markdown",
      "source": [
        "# **1. Таргет зависит от фичей линейно**"
      ],
      "metadata": {
        "id": "LBenVW8R-dt7"
      }
    },
    {
      "cell_type": "markdown",
      "source": [
        "**Искомая зависимость будет y = 2 * x + 5**"
      ],
      "metadata": {
        "id": "zqAUg4Tn6H5p"
      }
    },
    {
      "cell_type": "code",
      "source": [
        "def point():\n",
        "  x = np.random.uniform(-2.5, 2)\n",
        "  y = 2 * x + 5\n",
        "  return x, y"
      ],
      "metadata": {
        "id": "ZBpsJpzN2WFB"
      },
      "execution_count": 123,
      "outputs": []
    },
    {
      "cell_type": "markdown",
      "source": [
        "*Добавим к данным небольшой разброс*"
      ],
      "metadata": {
        "id": "ETTI-ziAkIVn"
      }
    },
    {
      "cell_type": "code",
      "source": [
        "feature = []\n",
        "target = []\n",
        "X = []\n",
        "y = []\n",
        "\n",
        "for i in range(50):\n",
        "  a, b = point()\n",
        "  feature.append([1, a])\n",
        "  b_noise = b + np.random.uniform(-0.3, 0.3)\n",
        "  target.append(b_noise)\n",
        "  X.append(a)\n",
        "  y.append(b_noise)"
      ],
      "metadata": {
        "id": "iN2TlTonAwBt"
      },
      "execution_count": 124,
      "outputs": []
    },
    {
      "cell_type": "code",
      "source": [
        "ax = sns.scatterplot(X, y, color = 'r');\n",
        "\n",
        "ax.set(xlabel ='feature', ylabel ='target')\n",
        "\n",
        "plt.title('Data');\n",
        "\n",
        "plt.show()"
      ],
      "metadata": {
        "colab": {
          "base_uri": "https://localhost:8080/",
          "height": 295
        },
        "id": "5uV0aYJgDqsA",
        "outputId": "7001ae9b-4550-4332-9dcc-0ac1133f827c"
      },
      "execution_count": 125,
      "outputs": [
        {
          "output_type": "display_data",
          "data": {
            "text/plain": [
              "<Figure size 432x288 with 1 Axes>"
            ],
            "image/png": "[encoded data removed]"
          },
          "metadata": {
            "needs_background": "light"
          }
        }
      ]
    },
    {
      "cell_type": "markdown",
      "source": [
        "## **Точный аналитический метод**"
      ],
      "metadata": {
        "id": "tqKoDQahGkI6"
      }
    },
    {
      "cell_type": "code",
      "source": [
        "X = np.array(feature)\n",
        "X_transpose = X.transpose()\n",
        "y = np.array(target)\n",
        "\n",
        "from numpy import linalg as LA\n",
        "\n",
        "X_inverse = LA.inv(np.dot(X_transpose, X))\n",
        "temp_matrix = np.dot(X_inverse, X_transpose)\n",
        "w = np.dot(temp_matrix, y)"
      ],
      "metadata": {
        "id": "-Hwluh6dGQJP"
      },
      "execution_count": 126,
      "outputs": []
    },
    {
      "cell_type": "code",
      "source": [
        "print(w)"
      ],
      "metadata": {
        "colab": {
          "base_uri": "https://localhost:8080/"
        },
        "id": "dsCEEA5daoAn",
        "outputId": "cf547264-6c12-44a4-8f47-386193a1a85f"
      },
      "execution_count": 127,
      "outputs": [
        {
          "output_type": "stream",
          "name": "stdout",
          "text": [
            "[5.04447563 2.02045513]\n"
          ]
        }
      ]
    },
    {
      "cell_type": "markdown",
      "source": [
        "# **2. Таргет зависит от фичей не линейно**"
      ],
      "metadata": {
        "id": "krgHZ098nhwc"
      }
    },
    {
      "cell_type": "markdown",
      "source": [
        "**Искомая зависимость будет y = sin(x)**"
      ],
      "metadata": {
        "id": "IzMGmSykn7j6"
      }
    },
    {
      "cell_type": "code",
      "source": [
        "def point():\n",
        "  x = np.random.uniform(-3, 3)\n",
        "  y = np.sin(x)\n",
        "  return x, y"
      ],
      "metadata": {
        "id": "vTuL4xGPnohd"
      },
      "execution_count": 128,
      "outputs": []
    },
    {
      "cell_type": "markdown",
      "source": [
        "*Добавим к данным небольшой разброс*"
      ],
      "metadata": {
        "id": "sxvUn18YoMlQ"
      }
    },
    {
      "cell_type": "code",
      "source": [
        "feature = []\n",
        "target = []\n",
        "X_real = []\n",
        "y_real = []\n",
        "\n",
        "for i in range(50):\n",
        "  a, b = point()\n",
        "  feature.append([1, a])\n",
        "  b_noise = b + np.random.uniform(-0.1, 0.1)\n",
        "  target.append(b_noise)\n",
        "  X_real.append(a)\n",
        "  y_real.append(b_noise)"
      ],
      "metadata": {
        "id": "KPHlVPmZoCIh"
      },
      "execution_count": 129,
      "outputs": []
    },
    {
      "cell_type": "code",
      "source": [
        "ax = sns.scatterplot(X_real, y_real, color = 'r');\n",
        "\n",
        "ax.set(xlabel ='feature', ylabel ='target')\n",
        "\n",
        "plt.title('Data');\n",
        "\n",
        "plt.show()"
      ],
      "metadata": {
        "colab": {
          "base_uri": "https://localhost:8080/",
          "height": 295
        },
        "id": "ihoYdVS_oMR9",
        "outputId": "717ef961-9831-477e-81b0-03e2a4cd3911"
      },
      "execution_count": 130,
      "outputs": [
        {
          "output_type": "display_data",
          "data": {
            "text/plain": [
              "<Figure size 432x288 with 1 Axes>"
            ],
            "image/png": "[encoded data removed]"
          },
          "metadata": {
            "needs_background": "light"
          }
        }
      ]
    },
    {
      "cell_type": "code",
      "source": [
        "X = np.array(feature)\n",
        "X_transpose = X.transpose()\n",
        "y = np.array(target)\n",
        "\n",
        "from numpy import linalg as LA\n",
        "\n",
        "X_inverse = LA.inv(np.dot(X_transpose, X))\n",
        "temp_matrix = np.dot(X_inverse, X_transpose)\n",
        "w = np.dot(temp_matrix, y)"
      ],
      "metadata": {
        "id": "dJjFxkLGokaY"
      },
      "execution_count": 131,
      "outputs": []
    },
    {
      "cell_type": "code",
      "source": [
        "print(w)"
      ],
      "metadata": {
        "colab": {
          "base_uri": "https://localhost:8080/"
        },
        "id": "nc49X6blooja",
        "outputId": "b6ebc95c-65fc-4809-8260-85cd6614005b"
      },
      "execution_count": 132,
      "outputs": [
        {
          "output_type": "stream",
          "name": "stdout",
          "text": [
            "[-0.0085405  0.3608739]\n"
          ]
        }
      ]
    },
    {
      "cell_type": "code",
      "source": [
        "def sin_approximation():\n",
        "  x = np.random.uniform(-3, 3)\n",
        "  y = w[0] * x + w[1]\n",
        "  return x, y"
      ],
      "metadata": {
        "id": "3wIM3pUwqWkE"
      },
      "execution_count": 133,
      "outputs": []
    },
    {
      "cell_type": "code",
      "source": [
        "X_approximated = []\n",
        "y_approximated = []\n",
        "\n",
        "for i in range(50):\n",
        "  a, b = sin_approximation()\n",
        "  X_approximated.append(a)\n",
        "  y_approximated.append(b)"
      ],
      "metadata": {
        "id": "FSgi6E8YqsFA"
      },
      "execution_count": 134,
      "outputs": []
    },
    {
      "cell_type": "code",
      "source": [
        "plt.scatter(X_approximated, y_approximated, color = 'r');\n",
        "plt.scatter(X_real, y_real, color = 'g');\n",
        "\n",
        "\n",
        "plt.title('Data');\n",
        "\n",
        "plt.show()"
      ],
      "metadata": {
        "colab": {
          "base_uri": "https://localhost:8080/",
          "height": 281
        },
        "id": "dsiVfC2koroa",
        "outputId": "5c8725df-a99b-4aaa-a3d7-9a2f49764223"
      },
      "execution_count": 135,
      "outputs": [
        {
          "output_type": "display_data",
          "data": {
            "text/plain": [
              "<Figure size 432x288 with 1 Axes>"
            ],
            "image/png": "[encoded data removed]"
          },
          "metadata": {
            "needs_background": "light"
          }
        }
      ]
    },
    {
      "cell_type": "markdown",
      "source": [
        "**Линейная регрессия с одним аргументом, нашла что-то среднее в этой диапазоне для синуса. Теперь добавим большее кол-во членов синуса в его разложении по Тейлору**"
      ],
      "metadata": {
        "id": "f4jwytC_shIc"
      }
    },
    {
      "cell_type": "code",
      "source": [
        "feature = []\n",
        "target = []\n",
        "\n",
        "for i in range(50):\n",
        "  a, b = point()\n",
        "  feature.append([a, a**3, a**5, a**7])\n",
        "  target.append(b)"
      ],
      "metadata": {
        "id": "7vkZ2G56sgsK"
      },
      "execution_count": 136,
      "outputs": []
    },
    {
      "cell_type": "code",
      "source": [
        "X = np.array(feature)\n",
        "X_transpose = X.transpose()\n",
        "y = np.array(target)\n",
        "\n",
        "from numpy import linalg as LA\n",
        "\n",
        "X_inverse = LA.inv(np.dot(X_transpose, X))\n",
        "temp_matrix = np.dot(X_inverse, X_transpose)\n",
        "w = np.dot(temp_matrix, target)"
      ],
      "metadata": {
        "id": "X9RxH7cCtT_e"
      },
      "execution_count": 137,
      "outputs": []
    },
    {
      "cell_type": "code",
      "source": [
        "w"
      ],
      "metadata": {
        "colab": {
          "base_uri": "https://localhost:8080/"
        },
        "id": "nbXPWstRtV90",
        "outputId": "941d806c-9ae2-4941-b0a2-1aad13fbabae"
      },
      "execution_count": 138,
      "outputs": [
        {
          "output_type": "execute_result",
          "data": {
            "text/plain": [
              "array([ 9.99598824e-01, -1.65960389e-01,  8.02933410e-03, -1.50031051e-04])"
            ]
          },
          "metadata": {},
          "execution_count": 138
        }
      ]
    },
    {
      "cell_type": "code",
      "source": [
        "def sin_approximation():\n",
        "  x = np.random.uniform(-3, 3)\n",
        "  y = w[0] * x + w[1] * (x**3) + w[2] * (x**5) + w[3] * (x**7) \n",
        "  return x, y"
      ],
      "metadata": {
        "id": "_tb3BacGtYf_"
      },
      "execution_count": 139,
      "outputs": []
    },
    {
      "cell_type": "code",
      "source": [
        "X_approximated = []\n",
        "y_approximated = []\n",
        "\n",
        "for i in range(50):\n",
        "  a, b = sin_approximation()\n",
        "  X_approximated.append(a)\n",
        "  y_approximated.append(b)"
      ],
      "metadata": {
        "id": "Hm20mMDqtq6I"
      },
      "execution_count": 140,
      "outputs": []
    },
    {
      "cell_type": "code",
      "source": [
        "plt.scatter(X_approximated, y_approximated, color = 'r');\n",
        "plt.scatter(X_real, y_real, color = 'g');\n",
        "\n",
        "\n",
        "plt.title('Data');\n",
        "\n",
        "plt.show()"
      ],
      "metadata": {
        "colab": {
          "base_uri": "https://localhost:8080/",
          "height": 281
        },
        "id": "_nK9EyhvttHQ",
        "outputId": "0305bf8c-c87d-4f03-ed3b-1e1cf8824218"
      },
      "execution_count": 141,
      "outputs": [
        {
          "output_type": "display_data",
          "data": {
            "text/plain": [
              "<Figure size 432x288 with 1 Axes>"
            ],
            "image/png": "[encoded data removed]"
          },
          "metadata": {
            "needs_background": "light"
          }
        }
      ]
    }
  ]
}